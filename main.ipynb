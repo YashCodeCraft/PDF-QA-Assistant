{
  "cells": [
    {
      "cell_type": "markdown",
      "source": [
        "1**. Install and Import Libraries**"
      ],
      "metadata": {
        "id": "RVeR72M7633o"
      },
      "id": "RVeR72M7633o"
    },
    {
      "cell_type": "code",
      "execution_count": null,
      "id": "72dc3a17-4986-40c3-aeb8-3c5c762e1376",
      "metadata": {
        "scrolled": true,
        "colab": {
          "base_uri": "https://localhost:8080/"
        },
        "id": "72dc3a17-4986-40c3-aeb8-3c5c762e1376",
        "outputId": "3ab7d1f8-bd79-47a6-a499-f20ad7c1b9f6"
      },
      "outputs": [
        {
          "output_type": "stream",
          "name": "stdout",
          "text": [
            "Collecting langchain\n",
            "  Downloading langchain-0.2.14-py3-none-any.whl.metadata (7.1 kB)\n",
            "Requirement already satisfied: PyYAML>=5.3 in /usr/local/lib/python3.10/dist-packages (from langchain) (6.0.2)\n",
            "Requirement already satisfied: SQLAlchemy<3,>=1.4 in /usr/local/lib/python3.10/dist-packages (from langchain) (2.0.32)\n",
            "Requirement already satisfied: aiohttp<4.0.0,>=3.8.3 in /usr/local/lib/python3.10/dist-packages (from langchain) (3.10.2)\n",
            "Requirement already satisfied: async-timeout<5.0.0,>=4.0.0 in /usr/local/lib/python3.10/dist-packages (from langchain) (4.0.3)\n",
            "Collecting langchain-core<0.3.0,>=0.2.32 (from langchain)\n",
            "  Downloading langchain_core-0.2.33-py3-none-any.whl.metadata (6.2 kB)\n",
            "Collecting langchain-text-splitters<0.3.0,>=0.2.0 (from langchain)\n",
            "  Downloading langchain_text_splitters-0.2.2-py3-none-any.whl.metadata (2.1 kB)\n",
            "Collecting langsmith<0.2.0,>=0.1.17 (from langchain)\n",
            "  Downloading langsmith-0.1.99-py3-none-any.whl.metadata (13 kB)\n",
            "Requirement already satisfied: numpy<2,>=1 in /usr/local/lib/python3.10/dist-packages (from langchain) (1.26.4)\n",
            "Requirement already satisfied: pydantic<3,>=1 in /usr/local/lib/python3.10/dist-packages (from langchain) (2.8.2)\n",
            "Requirement already satisfied: requests<3,>=2 in /usr/local/lib/python3.10/dist-packages (from langchain) (2.32.3)\n",
            "Collecting tenacity!=8.4.0,<9.0.0,>=8.1.0 (from langchain)\n",
            "  Downloading tenacity-8.5.0-py3-none-any.whl.metadata (1.2 kB)\n",
            "Requirement already satisfied: aiohappyeyeballs>=2.3.0 in /usr/local/lib/python3.10/dist-packages (from aiohttp<4.0.0,>=3.8.3->langchain) (2.3.5)\n",
            "Requirement already satisfied: aiosignal>=1.1.2 in /usr/local/lib/python3.10/dist-packages (from aiohttp<4.0.0,>=3.8.3->langchain) (1.3.1)\n",
            "Requirement already satisfied: attrs>=17.3.0 in /usr/local/lib/python3.10/dist-packages (from aiohttp<4.0.0,>=3.8.3->langchain) (24.2.0)\n",
            "Requirement already satisfied: frozenlist>=1.1.1 in /usr/local/lib/python3.10/dist-packages (from aiohttp<4.0.0,>=3.8.3->langchain) (1.4.1)\n",
            "Requirement already satisfied: multidict<7.0,>=4.5 in /usr/local/lib/python3.10/dist-packages (from aiohttp<4.0.0,>=3.8.3->langchain) (6.0.5)\n",
            "Requirement already satisfied: yarl<2.0,>=1.0 in /usr/local/lib/python3.10/dist-packages (from aiohttp<4.0.0,>=3.8.3->langchain) (1.9.4)\n",
            "Collecting jsonpatch<2.0,>=1.33 (from langchain-core<0.3.0,>=0.2.32->langchain)\n",
            "  Downloading jsonpatch-1.33-py2.py3-none-any.whl.metadata (3.0 kB)\n",
            "Requirement already satisfied: packaging<25,>=23.2 in /usr/local/lib/python3.10/dist-packages (from langchain-core<0.3.0,>=0.2.32->langchain) (24.1)\n",
            "Requirement already satisfied: typing-extensions>=4.7 in /usr/local/lib/python3.10/dist-packages (from langchain-core<0.3.0,>=0.2.32->langchain) (4.12.2)\n",
            "Collecting orjson<4.0.0,>=3.9.14 (from langsmith<0.2.0,>=0.1.17->langchain)\n",
            "  Downloading orjson-3.10.7-cp310-cp310-manylinux_2_17_x86_64.manylinux2014_x86_64.whl.metadata (50 kB)\n",
            "\u001b[2K     \u001b[90m━━━━━━━━━━━━━━━━━━━━━━━━━━━━━━━━━━━━━━━━\u001b[0m \u001b[32m50.4/50.4 kB\u001b[0m \u001b[31m2.5 MB/s\u001b[0m eta \u001b[36m0:00:00\u001b[0m\n",
            "\u001b[?25hRequirement already satisfied: annotated-types>=0.4.0 in /usr/local/lib/python3.10/dist-packages (from pydantic<3,>=1->langchain) (0.7.0)\n",
            "Requirement already satisfied: pydantic-core==2.20.1 in /usr/local/lib/python3.10/dist-packages (from pydantic<3,>=1->langchain) (2.20.1)\n",
            "Requirement already satisfied: charset-normalizer<4,>=2 in /usr/local/lib/python3.10/dist-packages (from requests<3,>=2->langchain) (3.3.2)\n",
            "Requirement already satisfied: idna<4,>=2.5 in /usr/local/lib/python3.10/dist-packages (from requests<3,>=2->langchain) (3.7)\n",
            "Requirement already satisfied: urllib3<3,>=1.21.1 in /usr/local/lib/python3.10/dist-packages (from requests<3,>=2->langchain) (2.0.7)\n",
            "Requirement already satisfied: certifi>=2017.4.17 in /usr/local/lib/python3.10/dist-packages (from requests<3,>=2->langchain) (2024.7.4)\n",
            "Requirement already satisfied: greenlet!=0.4.17 in /usr/local/lib/python3.10/dist-packages (from SQLAlchemy<3,>=1.4->langchain) (3.0.3)\n",
            "Collecting jsonpointer>=1.9 (from jsonpatch<2.0,>=1.33->langchain-core<0.3.0,>=0.2.32->langchain)\n",
            "  Downloading jsonpointer-3.0.0-py2.py3-none-any.whl.metadata (2.3 kB)\n",
            "Downloading langchain-0.2.14-py3-none-any.whl (997 kB)\n",
            "\u001b[2K   \u001b[90m━━━━━━━━━━━━━━━━━━━━━━━━━━━━━━━━━━━━━━━━\u001b[0m \u001b[32m997.8/997.8 kB\u001b[0m \u001b[31m19.2 MB/s\u001b[0m eta \u001b[36m0:00:00\u001b[0m\n",
            "\u001b[?25hDownloading langchain_core-0.2.33-py3-none-any.whl (391 kB)\n",
            "\u001b[2K   \u001b[90m━━━━━━━━━━━━━━━━━━━━━━━━━━━━━━━━━━━━━━━━\u001b[0m \u001b[32m391.5/391.5 kB\u001b[0m \u001b[31m18.3 MB/s\u001b[0m eta \u001b[36m0:00:00\u001b[0m\n",
            "\u001b[?25hDownloading langchain_text_splitters-0.2.2-py3-none-any.whl (25 kB)\n",
            "Downloading langsmith-0.1.99-py3-none-any.whl (140 kB)\n",
            "\u001b[2K   \u001b[90m━━━━━━━━━━━━━━━━━━━━━━━━━━━━━━━━━━━━━━━━\u001b[0m \u001b[32m140.4/140.4 kB\u001b[0m \u001b[31m8.1 MB/s\u001b[0m eta \u001b[36m0:00:00\u001b[0m\n",
            "\u001b[?25hDownloading tenacity-8.5.0-py3-none-any.whl (28 kB)\n",
            "Downloading jsonpatch-1.33-py2.py3-none-any.whl (12 kB)\n",
            "Downloading orjson-3.10.7-cp310-cp310-manylinux_2_17_x86_64.manylinux2014_x86_64.whl (141 kB)\n",
            "\u001b[2K   \u001b[90m━━━━━━━━━━━━━━━━━━━━━━━━━━━━━━━━━━━━━━━━\u001b[0m \u001b[32m141.9/141.9 kB\u001b[0m \u001b[31m7.5 MB/s\u001b[0m eta \u001b[36m0:00:00\u001b[0m\n",
            "\u001b[?25hDownloading jsonpointer-3.0.0-py2.py3-none-any.whl (7.6 kB)\n",
            "Installing collected packages: tenacity, orjson, jsonpointer, jsonpatch, langsmith, langchain-core, langchain-text-splitters, langchain\n",
            "  Attempting uninstall: tenacity\n",
            "    Found existing installation: tenacity 9.0.0\n",
            "    Uninstalling tenacity-9.0.0:\n",
            "      Successfully uninstalled tenacity-9.0.0\n",
            "Successfully installed jsonpatch-1.33 jsonpointer-3.0.0 langchain-0.2.14 langchain-core-0.2.33 langchain-text-splitters-0.2.2 langsmith-0.1.99 orjson-3.10.7 tenacity-8.5.0\n",
            "Collecting openai\n",
            "  Downloading openai-1.41.0-py3-none-any.whl.metadata (22 kB)\n",
            "Requirement already satisfied: anyio<5,>=3.5.0 in /usr/local/lib/python3.10/dist-packages (from openai) (3.7.1)\n",
            "Requirement already satisfied: distro<2,>=1.7.0 in /usr/lib/python3/dist-packages (from openai) (1.7.0)\n",
            "Collecting httpx<1,>=0.23.0 (from openai)\n",
            "  Downloading httpx-0.27.0-py3-none-any.whl.metadata (7.2 kB)\n",
            "Collecting jiter<1,>=0.4.0 (from openai)\n",
            "  Downloading jiter-0.5.0-cp310-cp310-manylinux_2_17_x86_64.manylinux2014_x86_64.whl.metadata (3.6 kB)\n",
            "Requirement already satisfied: pydantic<3,>=1.9.0 in /usr/local/lib/python3.10/dist-packages (from openai) (2.8.2)\n",
            "Requirement already satisfied: sniffio in /usr/local/lib/python3.10/dist-packages (from openai) (1.3.1)\n",
            "Requirement already satisfied: tqdm>4 in /usr/local/lib/python3.10/dist-packages (from openai) (4.66.5)\n",
            "Requirement already satisfied: typing-extensions<5,>=4.11 in /usr/local/lib/python3.10/dist-packages (from openai) (4.12.2)\n",
            "Requirement already satisfied: idna>=2.8 in /usr/local/lib/python3.10/dist-packages (from anyio<5,>=3.5.0->openai) (3.7)\n",
            "Requirement already satisfied: exceptiongroup in /usr/local/lib/python3.10/dist-packages (from anyio<5,>=3.5.0->openai) (1.2.2)\n",
            "Requirement already satisfied: certifi in /usr/local/lib/python3.10/dist-packages (from httpx<1,>=0.23.0->openai) (2024.7.4)\n",
            "Collecting httpcore==1.* (from httpx<1,>=0.23.0->openai)\n",
            "  Downloading httpcore-1.0.5-py3-none-any.whl.metadata (20 kB)\n",
            "Collecting h11<0.15,>=0.13 (from httpcore==1.*->httpx<1,>=0.23.0->openai)\n",
            "  Downloading h11-0.14.0-py3-none-any.whl.metadata (8.2 kB)\n",
            "Requirement already satisfied: annotated-types>=0.4.0 in /usr/local/lib/python3.10/dist-packages (from pydantic<3,>=1.9.0->openai) (0.7.0)\n",
            "Requirement already satisfied: pydantic-core==2.20.1 in /usr/local/lib/python3.10/dist-packages (from pydantic<3,>=1.9.0->openai) (2.20.1)\n",
            "Downloading openai-1.41.0-py3-none-any.whl (362 kB)\n",
            "\u001b[2K   \u001b[90m━━━━━━━━━━━━━━━━━━━━━━━━━━━━━━━━━━━━━━━━\u001b[0m \u001b[32m362.4/362.4 kB\u001b[0m \u001b[31m13.1 MB/s\u001b[0m eta \u001b[36m0:00:00\u001b[0m\n",
            "\u001b[?25hDownloading httpx-0.27.0-py3-none-any.whl (75 kB)\n",
            "\u001b[2K   \u001b[90m━━━━━━━━━━━━━━━━━━━━━━━━━━━━━━━━━━━━━━━━\u001b[0m \u001b[32m75.6/75.6 kB\u001b[0m \u001b[31m5.7 MB/s\u001b[0m eta \u001b[36m0:00:00\u001b[0m\n",
            "\u001b[?25hDownloading httpcore-1.0.5-py3-none-any.whl (77 kB)\n",
            "\u001b[2K   \u001b[90m━━━━━━━━━━━━━━━━━━━━━━━━━━━━━━━━━━━━━━━━\u001b[0m \u001b[32m77.9/77.9 kB\u001b[0m \u001b[31m5.9 MB/s\u001b[0m eta \u001b[36m0:00:00\u001b[0m\n",
            "\u001b[?25hDownloading jiter-0.5.0-cp310-cp310-manylinux_2_17_x86_64.manylinux2014_x86_64.whl (318 kB)\n",
            "\u001b[2K   \u001b[90m━━━━━━━━━━━━━━━━━━━━━━━━━━━━━━━━━━━━━━━━\u001b[0m \u001b[32m318.9/318.9 kB\u001b[0m \u001b[31m9.5 MB/s\u001b[0m eta \u001b[36m0:00:00\u001b[0m\n",
            "\u001b[?25hDownloading h11-0.14.0-py3-none-any.whl (58 kB)\n",
            "\u001b[2K   \u001b[90m━━━━━━━━━━━━━━━━━━━━━━━━━━━━━━━━━━━━━━━━\u001b[0m \u001b[32m58.3/58.3 kB\u001b[0m \u001b[31m4.0 MB/s\u001b[0m eta \u001b[36m0:00:00\u001b[0m\n",
            "\u001b[?25hInstalling collected packages: jiter, h11, httpcore, httpx, openai\n",
            "Successfully installed h11-0.14.0 httpcore-1.0.5 httpx-0.27.0 jiter-0.5.0 openai-1.41.0\n",
            "Collecting PyPDF2\n",
            "  Downloading pypdf2-3.0.1-py3-none-any.whl.metadata (6.8 kB)\n",
            "Downloading pypdf2-3.0.1-py3-none-any.whl (232 kB)\n",
            "\u001b[2K   \u001b[90m━━━━━━━━━━━━━━━━━━━━━━━━━━━━━━━━━━━━━━━━\u001b[0m \u001b[32m232.6/232.6 kB\u001b[0m \u001b[31m5.0 MB/s\u001b[0m eta \u001b[36m0:00:00\u001b[0m\n",
            "\u001b[?25hInstalling collected packages: PyPDF2\n",
            "Successfully installed PyPDF2-3.0.1\n",
            "Collecting faiss-cpu\n",
            "  Downloading faiss_cpu-1.8.0.post1-cp310-cp310-manylinux_2_17_x86_64.manylinux2014_x86_64.whl.metadata (3.7 kB)\n",
            "Requirement already satisfied: numpy<2.0,>=1.0 in /usr/local/lib/python3.10/dist-packages (from faiss-cpu) (1.26.4)\n",
            "Requirement already satisfied: packaging in /usr/local/lib/python3.10/dist-packages (from faiss-cpu) (24.1)\n",
            "Downloading faiss_cpu-1.8.0.post1-cp310-cp310-manylinux_2_17_x86_64.manylinux2014_x86_64.whl (27.0 MB)\n",
            "\u001b[2K   \u001b[90m━━━━━━━━━━━━━━━━━━━━━━━━━━━━━━━━━━━━━━━━\u001b[0m \u001b[32m27.0/27.0 MB\u001b[0m \u001b[31m32.2 MB/s\u001b[0m eta \u001b[36m0:00:00\u001b[0m\n",
            "\u001b[?25hInstalling collected packages: faiss-cpu\n",
            "Successfully installed faiss-cpu-1.8.0.post1\n",
            "Collecting langchain-community\n",
            "  Downloading langchain_community-0.2.12-py3-none-any.whl.metadata (2.7 kB)\n",
            "Requirement already satisfied: PyYAML>=5.3 in /usr/local/lib/python3.10/dist-packages (from langchain-community) (6.0.2)\n",
            "Requirement already satisfied: SQLAlchemy<3,>=1.4 in /usr/local/lib/python3.10/dist-packages (from langchain-community) (2.0.32)\n",
            "Requirement already satisfied: aiohttp<4.0.0,>=3.8.3 in /usr/local/lib/python3.10/dist-packages (from langchain-community) (3.10.2)\n",
            "Collecting dataclasses-json<0.7,>=0.5.7 (from langchain-community)\n",
            "  Downloading dataclasses_json-0.6.7-py3-none-any.whl.metadata (25 kB)\n",
            "Requirement already satisfied: langchain<0.3.0,>=0.2.13 in /usr/local/lib/python3.10/dist-packages (from langchain-community) (0.2.14)\n",
            "Requirement already satisfied: langchain-core<0.3.0,>=0.2.30 in /usr/local/lib/python3.10/dist-packages (from langchain-community) (0.2.33)\n",
            "Requirement already satisfied: langsmith<0.2.0,>=0.1.0 in /usr/local/lib/python3.10/dist-packages (from langchain-community) (0.1.99)\n",
            "Requirement already satisfied: numpy<2,>=1 in /usr/local/lib/python3.10/dist-packages (from langchain-community) (1.26.4)\n",
            "Requirement already satisfied: requests<3,>=2 in /usr/local/lib/python3.10/dist-packages (from langchain-community) (2.32.3)\n",
            "Requirement already satisfied: tenacity!=8.4.0,<9.0.0,>=8.1.0 in /usr/local/lib/python3.10/dist-packages (from langchain-community) (8.5.0)\n",
            "Requirement already satisfied: aiohappyeyeballs>=2.3.0 in /usr/local/lib/python3.10/dist-packages (from aiohttp<4.0.0,>=3.8.3->langchain-community) (2.3.5)\n",
            "Requirement already satisfied: aiosignal>=1.1.2 in /usr/local/lib/python3.10/dist-packages (from aiohttp<4.0.0,>=3.8.3->langchain-community) (1.3.1)\n",
            "Requirement already satisfied: attrs>=17.3.0 in /usr/local/lib/python3.10/dist-packages (from aiohttp<4.0.0,>=3.8.3->langchain-community) (24.2.0)\n",
            "Requirement already satisfied: frozenlist>=1.1.1 in /usr/local/lib/python3.10/dist-packages (from aiohttp<4.0.0,>=3.8.3->langchain-community) (1.4.1)\n",
            "Requirement already satisfied: multidict<7.0,>=4.5 in /usr/local/lib/python3.10/dist-packages (from aiohttp<4.0.0,>=3.8.3->langchain-community) (6.0.5)\n",
            "Requirement already satisfied: yarl<2.0,>=1.0 in /usr/local/lib/python3.10/dist-packages (from aiohttp<4.0.0,>=3.8.3->langchain-community) (1.9.4)\n",
            "Requirement already satisfied: async-timeout<5.0,>=4.0 in /usr/local/lib/python3.10/dist-packages (from aiohttp<4.0.0,>=3.8.3->langchain-community) (4.0.3)\n",
            "Collecting marshmallow<4.0.0,>=3.18.0 (from dataclasses-json<0.7,>=0.5.7->langchain-community)\n",
            "  Downloading marshmallow-3.21.3-py3-none-any.whl.metadata (7.1 kB)\n",
            "Collecting typing-inspect<1,>=0.4.0 (from dataclasses-json<0.7,>=0.5.7->langchain-community)\n",
            "  Downloading typing_inspect-0.9.0-py3-none-any.whl.metadata (1.5 kB)\n",
            "Requirement already satisfied: langchain-text-splitters<0.3.0,>=0.2.0 in /usr/local/lib/python3.10/dist-packages (from langchain<0.3.0,>=0.2.13->langchain-community) (0.2.2)\n",
            "Requirement already satisfied: pydantic<3,>=1 in /usr/local/lib/python3.10/dist-packages (from langchain<0.3.0,>=0.2.13->langchain-community) (2.8.2)\n",
            "Requirement already satisfied: jsonpatch<2.0,>=1.33 in /usr/local/lib/python3.10/dist-packages (from langchain-core<0.3.0,>=0.2.30->langchain-community) (1.33)\n",
            "Requirement already satisfied: packaging<25,>=23.2 in /usr/local/lib/python3.10/dist-packages (from langchain-core<0.3.0,>=0.2.30->langchain-community) (24.1)\n",
            "Requirement already satisfied: typing-extensions>=4.7 in /usr/local/lib/python3.10/dist-packages (from langchain-core<0.3.0,>=0.2.30->langchain-community) (4.12.2)\n",
            "Requirement already satisfied: orjson<4.0.0,>=3.9.14 in /usr/local/lib/python3.10/dist-packages (from langsmith<0.2.0,>=0.1.0->langchain-community) (3.10.7)\n",
            "Requirement already satisfied: charset-normalizer<4,>=2 in /usr/local/lib/python3.10/dist-packages (from requests<3,>=2->langchain-community) (3.3.2)\n",
            "Requirement already satisfied: idna<4,>=2.5 in /usr/local/lib/python3.10/dist-packages (from requests<3,>=2->langchain-community) (3.7)\n",
            "Requirement already satisfied: urllib3<3,>=1.21.1 in /usr/local/lib/python3.10/dist-packages (from requests<3,>=2->langchain-community) (2.0.7)\n",
            "Requirement already satisfied: certifi>=2017.4.17 in /usr/local/lib/python3.10/dist-packages (from requests<3,>=2->langchain-community) (2024.7.4)\n",
            "Requirement already satisfied: greenlet!=0.4.17 in /usr/local/lib/python3.10/dist-packages (from SQLAlchemy<3,>=1.4->langchain-community) (3.0.3)\n",
            "Requirement already satisfied: jsonpointer>=1.9 in /usr/local/lib/python3.10/dist-packages (from jsonpatch<2.0,>=1.33->langchain-core<0.3.0,>=0.2.30->langchain-community) (3.0.0)\n",
            "Requirement already satisfied: annotated-types>=0.4.0 in /usr/local/lib/python3.10/dist-packages (from pydantic<3,>=1->langchain<0.3.0,>=0.2.13->langchain-community) (0.7.0)\n",
            "Requirement already satisfied: pydantic-core==2.20.1 in /usr/local/lib/python3.10/dist-packages (from pydantic<3,>=1->langchain<0.3.0,>=0.2.13->langchain-community) (2.20.1)\n",
            "Collecting mypy-extensions>=0.3.0 (from typing-inspect<1,>=0.4.0->dataclasses-json<0.7,>=0.5.7->langchain-community)\n",
            "  Downloading mypy_extensions-1.0.0-py3-none-any.whl.metadata (1.1 kB)\n",
            "Downloading langchain_community-0.2.12-py3-none-any.whl (2.3 MB)\n",
            "\u001b[2K   \u001b[90m━━━━━━━━━━━━━━━━━━━━━━━━━━━━━━━━━━━━━━━━\u001b[0m \u001b[32m2.3/2.3 MB\u001b[0m \u001b[31m33.4 MB/s\u001b[0m eta \u001b[36m0:00:00\u001b[0m\n",
            "\u001b[?25hDownloading dataclasses_json-0.6.7-py3-none-any.whl (28 kB)\n",
            "Downloading marshmallow-3.21.3-py3-none-any.whl (49 kB)\n",
            "\u001b[2K   \u001b[90m━━━━━━━━━━━━━━━━━━━━━━━━━━━━━━━━━━━━━━━━\u001b[0m \u001b[32m49.2/49.2 kB\u001b[0m \u001b[31m2.9 MB/s\u001b[0m eta \u001b[36m0:00:00\u001b[0m\n",
            "\u001b[?25hDownloading typing_inspect-0.9.0-py3-none-any.whl (8.8 kB)\n",
            "Downloading mypy_extensions-1.0.0-py3-none-any.whl (4.7 kB)\n",
            "Installing collected packages: mypy-extensions, marshmallow, typing-inspect, dataclasses-json, langchain-community\n",
            "Successfully installed dataclasses-json-0.6.7 langchain-community-0.2.12 marshmallow-3.21.3 mypy-extensions-1.0.0 typing-inspect-0.9.0\n",
            "Collecting tiktoken\n",
            "  Downloading tiktoken-0.7.0-cp310-cp310-manylinux_2_17_x86_64.manylinux2014_x86_64.whl.metadata (6.6 kB)\n",
            "Requirement already satisfied: regex>=2022.1.18 in /usr/local/lib/python3.10/dist-packages (from tiktoken) (2024.5.15)\n",
            "Requirement already satisfied: requests>=2.26.0 in /usr/local/lib/python3.10/dist-packages (from tiktoken) (2.32.3)\n",
            "Requirement already satisfied: charset-normalizer<4,>=2 in /usr/local/lib/python3.10/dist-packages (from requests>=2.26.0->tiktoken) (3.3.2)\n",
            "Requirement already satisfied: idna<4,>=2.5 in /usr/local/lib/python3.10/dist-packages (from requests>=2.26.0->tiktoken) (3.7)\n",
            "Requirement already satisfied: urllib3<3,>=1.21.1 in /usr/local/lib/python3.10/dist-packages (from requests>=2.26.0->tiktoken) (2.0.7)\n",
            "Requirement already satisfied: certifi>=2017.4.17 in /usr/local/lib/python3.10/dist-packages (from requests>=2.26.0->tiktoken) (2024.7.4)\n",
            "Downloading tiktoken-0.7.0-cp310-cp310-manylinux_2_17_x86_64.manylinux2014_x86_64.whl (1.1 MB)\n",
            "\u001b[2K   \u001b[90m━━━━━━━━━━━━━━━━━━━━━━━━━━━━━━━━━━━━━━━━\u001b[0m \u001b[32m1.1/1.1 MB\u001b[0m \u001b[31m17.3 MB/s\u001b[0m eta \u001b[36m0:00:00\u001b[0m\n",
            "\u001b[?25hInstalling collected packages: tiktoken\n",
            "Successfully installed tiktoken-0.7.0\n"
          ]
        }
      ],
      "source": [
        "!pip install langchain\n",
        "!pip install openai\n",
        "!pip install PyPDF2\n",
        "!pip install faiss-cpu\n",
        "!pip install -U langchain-community\n",
        "!pip install tiktoken\n",
        "#import key.txt"
      ]
    },
    {
      "cell_type": "code",
      "execution_count": null,
      "id": "57117b58-731b-4e26-9fab-eea7a09292ab",
      "metadata": {
        "id": "57117b58-731b-4e26-9fab-eea7a09292ab"
      },
      "outputs": [],
      "source": [
        "from PyPDF2 import PdfReader\n",
        "from langchain.embeddings.openai import OpenAIEmbeddings\n",
        "from langchain.text_splitter import CharacterTextSplitter\n",
        "from langchain.vectorstores import FAISS\n",
        "from langchain.llms import OpenAI"
      ]
    },
    {
      "cell_type": "markdown",
      "source": [
        "**2. Read and Extract Text**"
      ],
      "metadata": {
        "id": "TJWgQ2yT7Uea"
      },
      "id": "TJWgQ2yT7Uea"
    },
    {
      "cell_type": "code",
      "source": [
        "'''from google.colab import drive\n",
        "drive.mount('/content/drive')'''"
      ],
      "metadata": {
        "colab": {
          "base_uri": "https://localhost:8080/"
        },
        "id": "AHI7OivzaupG",
        "outputId": "e2ae4d3c-aca8-4469-e80e-49b588c6aa61"
      },
      "id": "AHI7OivzaupG",
      "execution_count": null,
      "outputs": [
        {
          "output_type": "stream",
          "name": "stdout",
          "text": [
            "Mounted at /content/drive\n"
          ]
        }
      ]
    },
    {
      "cell_type": "code",
      "source": [
        "from PyPDF2 import PdfReader\n",
        "\n",
        "\n",
        "import os\n",
        "print(os.listdir())\n",
        "\n",
        "\n",
        "pdf_path = \"/content/drive/MyDrive/DataSets/Rape_Data.pdf\"\n",
        "\n",
        "\n",
        "pdfreader = PdfReader(pdf_path)\n",
        "\n",
        "\n",
        "page = pdfreader.pages[0]\n",
        "text = page.extract_text()\n",
        "\n",
        "print(text)"
      ],
      "metadata": {
        "colab": {
          "base_uri": "https://localhost:8080/"
        },
        "id": "ZJfikffX5OsM",
        "outputId": "00490d28-f6c8-4e95-aa4a-8bfedddcdf88"
      },
      "id": "ZJfikffX5OsM",
      "execution_count": null,
      "outputs": [
        {
          "output_type": "stream",
          "name": "stdout",
          "text": [
            "['.config', 'drive', 'sample_data']\n",
            "New\n",
            "Delhi:\n",
            "He\n",
            "watched\n",
            "girls\n",
            "defecate\n",
            "in\n",
            "open\n",
            "toilets\n",
            "in\n",
            "his\n",
            "neighbourhood;\n",
            "covertly\n",
            "observing\n",
            "them\n",
            "aroused\n",
            "him\n",
            "sexually .\n",
            "He\n",
            "repeatedly\n",
            "watched\n",
            "Hindi\n",
            "movies\n",
            "that\n",
            "were\n",
            "about\n",
            "obsession\n",
            "and\n",
            "had\n",
            "explicit\n",
            "sexual\n",
            "assault\n",
            "scenes.\n",
            "He\n",
            "was\n",
            "5\n",
            "ft\n",
            "7’\n",
            "with\n",
            "an\n",
            "average\n",
            "build,\n",
            "a\n",
            "light\n",
            "brown\n",
            "complexion,\n",
            "slightly\n",
            "curly\n",
            "hair,\n",
            "and\n",
            "liked\n",
            "innocent-looking\n",
            "girls.\n",
            "He\n",
            "loved\n",
            "Raj\n",
            "Babbar\n",
            "in\n",
            "the\n",
            "movie\n",
            "Insaaf\n",
            "ka\n",
            "Tarazu,\n",
            "(Scales\n",
            "of\n",
            "Justice)\n",
            "in\n",
            "which\n",
            "the\n",
            "actor\n",
            "plays\n",
            "a\n",
            "rapist,\n",
            "and\n",
            "copied\n",
            "his\n",
            "crooked\n",
            "smile.\n",
            "When\n",
            "he\n",
            "was\n",
            "32\n",
            "and\n",
            "married,\n",
            "he\n",
            "raped\n",
            "a\n",
            "15-year-old\n",
            "girl\n",
            "in\n",
            "the\n",
            "lower\n",
            "middle-class\n",
            "neighbourhood\n",
            "in\n",
            "which\n",
            "he\n",
            "lived.\n",
            "His\n",
            "victim\n",
            "became\n",
            "one\n",
            "more\n",
            "addition\n",
            "to\n",
            "India’ s\n",
            "dubious\n",
            "record—one\n",
            "woman\n",
            "gets\n",
            "raped\n",
            "every\n",
            "20\n",
            "minutes\n",
            "and\n",
            "one\n",
            "child\n",
            "in\n",
            "every\n",
            "76\n",
            "minutes.\n",
            "And\n",
            "he\n",
            "himself,\n",
            "who\n",
            "did\n",
            "not\n",
            "want\n",
            "to\n",
            "be\n",
            "identified\n",
            "given\n",
            "the\n",
            "nature\n",
            "of\n",
            "the\n",
            "crime\n",
            "he\n",
            "committed,\n",
            "was\n",
            "caught,\n",
            "convicted\n",
            "and\n",
            "is\n",
            "presently\n",
            "serving\n",
            "his\n",
            "sentence\n",
            "in\n",
            "Tihar\n",
            "Jail—located\n",
            "in\n",
            "the\n",
            "western\n",
            "suburbs\n",
            "of\n",
            "Delhi.\n",
            "This\n",
            "person\n",
            "fits\n",
            "the\n",
            "stereotype,\n",
            "perpetuated\n",
            "by\n",
            "the\n",
            "brutal\n",
            "16\n",
            "December\n",
            "2012\n",
            "gang-rape\n",
            "of\n",
            "a\n",
            "23-year-old\n",
            "physiotherapy\n",
            "student\n",
            "who\n",
            "died\n",
            "a\n",
            "fortnight\n",
            "later,\n",
            "of\n",
            "belonging\n",
            "to\n",
            "the\n",
            "so-called\n",
            "bottom\n",
            "of\n",
            "the\n",
            "pyramid.\n",
            "Mint’ s\n",
            "research,\n",
            "including\n",
            "several\n",
            "visits\n",
            "to\n",
            "Tihar\n",
            "jail\n",
            "and\n",
            "interviews\n",
            "with\n",
            "some\n",
            "of\n",
            "those\n",
            "serving\n",
            "sentences\n",
            "for\n",
            "rape,\n",
            "and\n",
            "experts\n",
            "shows\n",
            "that\n",
            "this\n",
            "is\n",
            "far\n",
            "from\n",
            "the\n",
            "truth:\n",
            "the\n",
            "rape\n",
            "of\n",
            "non-partners\n",
            "is\n",
            "not\n",
            "peculiar\n",
            "to\n",
            "any\n",
            "economic\n",
            "class\n",
            "or\n",
            "demography—poor\n",
            "or\n",
            "rich,\n",
            "young,\n",
            "middle-aged\n",
            "or\n",
            "old.\n",
            "Rape\n",
            "isn’t\n",
            "just\n",
            "difficult\n",
            "to\n",
            "predict,\n",
            "but,\n",
            "as\n",
            "psychologists\n",
            "argue,\n",
            "also\n",
            "difficult\n",
            "to\n",
            "comprehend.\n",
            "Broadly ,\n",
            "experts\n",
            "maintain\n",
            "that\n",
            "rape\n",
            "can\n",
            "be\n",
            "attributed\n",
            "to\n",
            "issues\n",
            "related\n",
            "to\n",
            "social\n",
            "mores,\n",
            "gender\n",
            "and\n",
            "masculinity .\n"
          ]
        }
      ]
    },
    {
      "cell_type": "code",
      "source": [
        "'''from google.colab import drive\n",
        "drive.mount('/content/drive')'''"
      ],
      "metadata": {
        "colab": {
          "base_uri": "https://localhost:8080/",
          "height": 35
        },
        "id": "zXo0em8N1cBN",
        "outputId": "ea9b0063-9838-4166-fdaa-b4ed5de575e0"
      },
      "id": "zXo0em8N1cBN",
      "execution_count": null,
      "outputs": [
        {
          "output_type": "execute_result",
          "data": {
            "text/plain": [
              "\"from google.colab import drive\\ndrive.mount('/content/drive')\""
            ],
            "application/vnd.google.colaboratory.intrinsic+json": {
              "type": "string"
            }
          },
          "metadata": {},
          "execution_count": 7
        }
      ]
    },
    {
      "cell_type": "code",
      "execution_count": null,
      "id": "e0142e7a-f33e-40ae-85ca-080aaa53228e",
      "metadata": {
        "id": "e0142e7a-f33e-40ae-85ca-080aaa53228e"
      },
      "outputs": [],
      "source": [
        "import os\n",
        "OPENAI_API_KEY = \"Enter opai_key\""
      ]
    },
    {
      "cell_type": "code",
      "execution_count": null,
      "id": "ddb1b8e9-860b-4ceb-952c-ab8deb58c628",
      "metadata": {
        "id": "ddb1b8e9-860b-4ceb-952c-ab8deb58c628"
      },
      "outputs": [],
      "source": [
        "from typing_extensions import Concatenate\n",
        "raw_text=''\n",
        "for i,page in enumerate(pdfreader.pages):\n",
        "    content=page.extract_text()\n",
        "    if content:\n",
        "        raw_text+=content"
      ]
    },
    {
      "cell_type": "code",
      "execution_count": null,
      "id": "81198d30-cae2-4e85-8571-bc5db57f5183",
      "metadata": {
        "colab": {
          "base_uri": "https://localhost:8080/",
          "height": 191
        },
        "id": "81198d30-cae2-4e85-8571-bc5db57f5183",
        "outputId": "f78d7706-cb5c-4692-9762-813f86b0dae9"
      },
      "outputs": [
        {
          "output_type": "execute_result",
          "data": {
            "text/plain": [
              "'New\\nDelhi:\\nHe\\nwatched\\ngirls\\ndefecate\\nin\\nopen\\ntoilets\\nin\\nhis\\nneighbourhood;\\ncovertly\\nobserving\\nthem\\naroused\\nhim\\nsexually .\\nHe\\nrepeatedly\\nwatched\\nHindi\\nmovies\\nthat\\nwere\\nabout\\nobsession\\nand\\nhad\\nexplicit\\nsexual\\nassault\\nscenes.\\nHe\\nwas\\n5\\nft\\n7’\\nwith\\nan\\naverage\\nbuild,\\na\\nlight\\nbrown\\ncomplexion,\\nslightly\\ncurly\\nhair,\\nand\\nliked\\ninnocent-looking\\ngirls.\\nHe\\nloved\\nRaj\\nBabbar\\nin\\nthe\\nmovie\\nInsaaf\\nka\\nTarazu,\\n(Scales\\nof\\nJustice)\\nin\\nwhich\\nthe\\nactor\\nplays\\na\\nrapist,\\nand\\ncopied\\nhis\\ncrooked\\nsmile.\\nWhen\\nhe\\nwas\\n32\\nand\\nmarried,\\nhe\\nraped\\na\\n15-year-old\\ngirl\\nin\\nthe\\nlower\\nmiddle-class\\nneighbourhood\\nin\\nwhich\\nhe\\nlived.\\nHis\\nvictim\\nbecame\\none\\nmore\\naddition\\nto\\nIndia’ s\\ndubious\\nrecord—one\\nwoman\\ngets\\nraped\\nevery\\n20\\nminutes\\nand\\none\\nchild\\nin\\nevery\\n76\\nminutes.\\nAnd\\nhe\\nhimself,\\nwho\\ndid\\nnot\\nwant\\nto\\nbe\\nidentified\\ngiven\\nthe\\nnature\\nof\\nthe\\ncrime\\nhe\\ncommitted,\\nwas\\ncaught,\\nconvicted\\nand\\nis\\npresently\\nserving\\nhis\\nsentence\\nin\\nTihar\\nJail—located\\nin\\nthe\\nwestern\\nsuburbs\\nof\\nDelhi.\\nThis\\nperson\\nfits\\nthe\\nstereotype,\\nperpetuated\\nby\\nthe\\nbrutal\\n16\\nDecember\\n2012\\ngang-rape\\nof\\na\\n23-year-old\\nphysiotherapy\\nstudent\\nwho\\ndied\\na\\nfortnight\\nlater,\\nof\\nbelonging\\nto\\nthe\\nso-called\\nbottom\\nof\\nthe\\npyramid.\\nMint’ s\\nresearch,\\nincluding\\nseveral\\nvisits\\nto\\nTihar\\njail\\nand\\ninterviews\\nwith\\nsome\\nof\\nthose\\nserving\\nsentences\\nfor\\nrape,\\nand\\nexperts\\nshows\\nthat\\nthis\\nis\\nfar\\nfrom\\nthe\\ntruth:\\nthe\\nrape\\nof\\nnon-partners\\nis\\nnot\\npeculiar\\nto\\nany\\neconomic\\nclass\\nor\\ndemography—poor\\nor\\nrich,\\nyoung,\\nmiddle-aged\\nor\\nold.\\nRape\\nisn’t\\njust\\ndifficult\\nto\\npredict,\\nbut,\\nas\\npsychologists\\nargue,\\nalso\\ndifficult\\nto\\ncomprehend.\\nBroadly ,\\nexperts\\nmaintain\\nthat\\nrape\\ncan\\nbe\\nattributed\\nto\\nissues\\nrelated\\nto\\nsocial\\nmores,\\ngender\\nand\\nmasculinity .The\\ncrime\\n“The\\npeople\\nwho\\nrape\\ncan\\nbelong\\nto\\nany\\nsection\\nof\\nthe\\nsociety .\\nThey\\ndon’t\\nthink\\nthey\\nwill\\nget\\nwomen\\nin\\nany\\nother\\nway.\\nNormally ,\\nmen\\nlook\\nat\\na\\nwoman,\\nlike\\nher,\\nstart\\nwooing\\nher,\\n(try\\nto)\\nbuild\\na\\nrelationship.\\nEmotional\\nintimacy\\nis\\nmissing\\nin\\nthese\\nmen.\\nIt\\nis\\nmeaningless\\nfor\\nthem,”\\nsays\\npsychologist\\nRajat\\nMitra,\\nwho\\nstudies\\nsexual\\noffenders\\nand\\nhas\\ninterviewed\\nmore\\nthan\\n242\\nrapists\\nin\\nCentral\\nJail\\nNo.4\\nof\\nTihar\\njail\\nfor\\nfive\\nyears.\\nPROMOTED\\nDreaming\\nof\\na\\nperfect\\nkitchen?\\nHomeLane\\nmakes\\nit\\na\\nreality\\nin\\njust\\n45\\ndays\\nHomeLane|\\nSponsored\\nThoughtfully\\ndesigned\\nflats\\nin\\nChengalpattu.\\nAvail\\n20:40:40\\npayment\\nPlan*\\nMahindra\\nLifespaces|\\nSponsored\\nWhy\\nno\\nvideo,\\nDhruv\\nRathee?\\nYouTuber\\nissues\\nstatement\\non\\nKolkata\\ndoctor\\nmurder:\\n‘Over\\n30,000\\nrape\\ncases\\nevery\\nyear’\\n|\\nToday\\nNews\\nLive\\nMint\\nAny\\nmore\\ndelay\\nwill\\ntake\\naway\\nmy\\n2-year-old\\'s\\nlife!\\nKetto|\\nSponsored\\nKolkata\\nrape-murder:\\nDoctor’s\\nfather\\n‘not\\nsatisfied’\\nwith\\nCM\\nMamata\\nBanerjee,\\nsays\\n‘She\\nis\\ntalking\\nabout\\njustice,\\nbut…’\\n|\\nToday\\nNews\\nLive\\nMintSecure\\nYour\\nRetirement\\nEarly\\nSBI\\nLife\\nInsurance|\\nSponsored\\nThese\\nAre\\nThe\\nMost\\nBeautiful\\nWomen\\nIn\\nThe\\nWorld\\n5minstory.com|\\nSponsored\\nYoung\\nLavanya\\nneeds\\na\\nkidney\\ntransplant\\nasap.\\nHelp\\nher!\\nDonate\\nFor\\nHealth|\\nSponsored\\nIn\\nan\\ninterview\\nwith\\nMitra,\\nthe\\nman\\nwith\\nBabbar ’s\\nsmile\\nrecalled\\nhis\\nobsession\\nwith\\nhis\\nvictim\\nand\\nhow\\nsex\\nwith\\nhis\\nown\\nwife\\nhad\\nceased\\nto\\nbe\\nenjoyable.\\nEver\\nsince\\nhe\\nset\\neyes\\non\\nthe\\nteenage\\ngirl,\\nhe\\nhad\\nstarted\\nfantasizing.\\nWhenever\\ntheir\\npaths\\ncrossed,\\nhe\\nwould\\ntry\\nto\\nread\\nher\\nemotions,\\nseeing\\nthings\\nthat\\nonly\\nhe\\ncould.\\n“While\\ngoing\\npast\\nme,\\nshe\\nstopped\\nfor\\na\\nsecond.\\nSomething\\nwithin\\nher\\narrested\\nher\\nfeet.\\nIt\\nwas\\nme,\\nwho\\nelse\\ncould\\nit\\nbe,”\\nhe\\nsaid.\\nJealousy\\npossessed\\nhim\\nwhen\\nhe\\nsaw\\nher\\ntalking\\nto\\na\\nboy\\nfrom\\nthe\\nneighbourhood;\\nhe\\nwas\\nso\\nincensed\\nthat\\nhe\\neven\\nthought\\nof\\naccosting\\nher,\\nbut\\ndropped\\nthe\\nidea.\\nInstead\\nof\\nstriking\\na\\nconversation,\\nhe\\nsought\\nher\\nattention\\nby\\nflashing.\\nIn\\none\\ninstance,\\nshe\\nwas\\naccompanied\\nby\\nher\\nfriend.\\nBoth\\ngiggled\\nnervously\\nwhen\\nhe\\nflashed\\nhimself\\nand\\nhe\\npromptly\\nassumed\\nthat\\nit\\nwasbecause\\nthey\\nwere\\nsexually\\nattracted\\nto\\nhim.\\n“I\\nthought\\nsomewhere\\nher\\nlove\\nfor\\nme\\nwas\\ndormant\\nand\\nwould\\nsoon\\ncome\\nout,”\\nthe\\nrapist\\nsaid.\\nRelated\\nStories\\n \\nAIIMS\\nneurosurgeon\\nfrom\\nGujarat\\ndies\\nby\\nsuicide\\nat\\nsouth\\nDelhi\\nﬂat,\\nmedicines\\noverdose\\nsuspected\\n \\n2\\nmin\\nread\\n \\n02:43\\nPM\\nIST\\n \\nIndian\\nCoast\\nGuard\\nDirector\\nGeneral\\nRakesh\\nPal\\ndies\\nafter\\nheart\\nattack\\n \\n2\\nmin\\nread\\n \\n04:10\\nPM\\nIST\\n \\n’Iron\\ngrip\\nhas\\nclearly\\nrusted’:\\nBJP\\nchief\\nJP\\nNadda\\nslams\\nMamata\\nBanerjee\\namid\\nKolkata\\ndoctor\\nrape-murder\\ncase\\n \\n2\\nmin\\nread\\n \\n01:39\\nPM\\nIST\\nGradually\\nhe\\ncame\\nto\\nbelieve\\nthat\\nthe\\nother\\nmen\\nin\\nthe\\nneighbourhood\\nwere\\na\\nthreat\\nto\\nhis\\ngrowing\\naffection\\nfor\\nthe\\nteenager .\\nIt\\nonly\\ngot\\nhim\\nmore\\nagitated.\\nWooing\\nand\\nloving\\nher\\nwas\\nnot\\nan\\noption\\nin\\nhis\\nmind.\\nAccording\\nto\\nhim,\\na\\nman-woman\\nrelationship\\ncan\\nonly\\ncommence\\nin\\nphysical\\nunion.\\nIf\\nit\\nwas\\nnot\\nconsensual,\\nthen\\nhe\\nwould\\nforce\\nhimself\\nupon\\nher.\\n“How\\ndid\\nyou\\ndevelop\\nsuch\\na\\nbelief?”\\nasked\\nMitra\\nin\\none\\nof\\nhis\\nsessions\\nwith\\nthe\\nrapist.\\n“I\\ndon’t\\nknow ,”\\nhe\\nsaid.\\n“Bus\\nho\\ngaya\\n(It\\njust\\nhappened)”,\\nhe\\nsaid.\\n“Thaan\\nliya\\nke\\nek\\nbaar\\nphysical\\nrelationship\\nban\\njaye,\\nto\\nbaki\\nasaan\\nho\\njayega\\n(I\\nthought\\nifI\\nhave\\na\\nphysical\\nrelationship\\nwith\\nher,\\nshe\\nwill\\nautomatically\\nbe\\nmine)...\\nAt\\nthat\\ntime,\\nI\\nwas\\nthinking\\nof\\nher\\nday\\nand\\nnight,”\\nhe\\nsaid.\\n“It\\nwas\\nduring\\nNavratra\\n(a\\nHindu\\nfestival)\\nthat\\nI\\nsaw\\nher\\ndressed\\nnicely\\none\\nday.\\nShe\\nlooked\\nvery\\nbeautiful.\\nI\\nknew\\nthis\\nwas\\nmy\\nchance,”\\nhe\\nadded.\\n“Chance\\nfor\\nwhat?”\\nMitra\\nasked.\\n“Chance\\nto\\nmake\\nher\\nmy\\nown,”\\nhe\\nreplied.\\nDuring\\nNavratra,\\nhe\\nfollowed\\nher\\nhome\\none\\nday,\\nknowing\\nher\\nfamily\\nwould\\nbe\\naway .\\n“She\\ndidn’t\\nscream\\nor\\nshout\\nwhen\\nI\\ndid\\nit\\nto\\nher.\\nShe\\nwas\\nabsolutely\\nquiet...like\\na\\nlamb,”\\nhe\\nsaid.\\nThe\\npolice\\nreport\\nsaid\\nthat\\nthe\\nteenager\\nhad\\nsevere\\nbleeding\\nin\\nher\\nprivate\\nparts.\\nHe\\nraped\\nher\\nviolently .\\nHe\\nhad\\nbeaten\\nher\\nharshly ,\\nwhile\\nraping.\\nHe\\nsaid\\nhe\\ndidn’t\\nthreaten\\nher.\\n“I\\njust\\ntold\\nher\\nthat\\nI\\nwant\\nher\\nand\\nwon’t\\ngo\\nwithout\\ndoing\\nit.\\nShe\\ndidn’t\\nresist…showed\\nthat\\nshe\\ndid\\nindeed\\nlove\\nme,”\\nhe\\nsaid.\\nBut\\nhe\\nhas\\nno\\nregrets.\\nHe\\ndoesn’t\\nbelieve\\nhe\\nraped\\nher.\\nHe\\nhas\\nmade\\nhimself\\nbelieve\\nthat\\nhe\\ndid\\nit\\nto\\nher\\nbecause\\nshe\\ninvited\\nhim\\nto\\ndo\\nso.\\nHis\\nmemory\\nof\\nthe\\nact\\nis\\nfragmented…only\\ncertain\\nparts\\nare\\nclear\\nin\\nhis\\nmind.\\nIn\\nfact,\\nvery\\nvividly .\\nMitra\\nsays\\nthis\\nis\\ntrue\\nof\\nalmost\\nall\\nrapists.\\n“They\\nremember\\ncertain\\nparts\\nof\\nthe\\nact\\nand\\nkeep\\nreplaying\\nthose\\nin\\nthe\\nmind\\nagain\\nand\\nagain,”\\nsays\\nMitra.\\nWhy?As\\ndetails\\nabout\\nthe\\nbrutal\\n16\\nDecember\\nDelhi\\ngang-rape\\nspread,\\nso\\ndid\\nthe\\nopinion\\nthat\\nrapists\\nare\\nmentally\\nill.\\nHowever ,\\nthere\\nis\\nno\\nscientific\\ntheory\\nto\\nshow\\nhow\\nor\\nif\\nat\\nall\\nthe\\nbrain\\nof\\na\\nrapist\\nis\\nany\\ndifferent.\\nAmid\\nnationwide\\nprotests,\\nthe\\nSupreme\\nCourt\\nhas\\ntaken\\nsuo\\nmotu\\ncognisance\\nof\\nthe\\nrecent\\nrape\\nand\\nmurder\\nof\\na\\npostgraduate\\ntrainee\\ndoctor\\nat\\nKolkata\\'s\\nRG\\nKar\\nHospital.\\nThe\\nmatter\\nwill\\nbe\\nconsidered\\nby\\na\\nbench\\nled\\nby\\nChief\\nJustice\\nof\\nIndia\\n(CJI)\\nDY\\nChandrachud\\non\\nTuesday ,\\nAugust\\n20.\\nThe\\npostgraduate\\ntrainee\\ndoctor\\nwas\\nallegedly\\nraped\\nand\\nmurdered\\non\\nAugust\\n9\\nwhile\\non\\nduty\\nat\\nRG\\nKar\\nMedical\\nCollege\\nin\\nKolkata.\\nThis\\nincident\\nhas\\nsparked\\nnationwide\\nstrikes\\nand\\nprotests\\nby\\ndoctors,\\nwho\\nare\\ndemanding\\nsevere\\npunishment\\nfor\\nthe\\naccused\\nand\\nenhanced\\nsafety\\nmeasures\\nfor\\nthemselves.\\nRead\\nMore:\\nKolkata\\ndoctor\\nrape-murder\\ncase:\\nRG\\nKar,\\nthe\\ncampus\\nwas\\nvictim\\'s\\n\\'second\\nhome\\'\\nEarlier\\non\\nThursday ,\\ntwo\\nlawyers\\npractising\\nin\\nthe\\nSupreme\\nCourt\\nwrote\\na\\nletter\\nto\\nChief\\nJustice\\nof\\nIndia\\nDY\\nChandrachud,\\nurging\\nhim\\nto\\ntake\\nsuo\\nmotu\\ncognisance\\nof\\nthe\\nrape\\nand\\nmurder\\nof\\nthe\\ndoctor\\nat\\nKolkata\\'s\\nRG\\nKar\\nMedical\\nCollege.\\n\"The\\nnation\\nlooks\\nto\\nthe\\njudiciary\\nas\\nthe\\nultimate\\nguardian\\nof\\njustice,\\nthe\\nlast\\nrefuge\\nfor\\nthose\\nwhose\\ncries\\nhave\\nbeen\\nsilenced\\nby\\nbrutality .\\nThe\\nvictim\\nin\\nthis\\ncase,\\na\\nyoung\\ndoctor\\nwhose\\nlife\\nwas\\ndedicated\\nto\\nserving\\nothers,\\ndeserves\\nnothing\\nless\\nthan\\nthe\\nfull\\nmeasure\\nof\\njustice\\nthat\\nour\\nlegal\\nsystem\\ncan\\nprovide.\\nHer\\ndeath\\nmust\\nnot\\nbe\\nin\\nvain;\\nit\\nmust\\ngalvanise\\nus\\nto\\nact,\\nto\\nensure\\nthat\\nno\\nother\\nwoman\\nsuffers\\nsuch\\na\\nfate,\"\\nstated\\nthe\\nletter .It\\nfurther\\nstated\\nthat\\nthe\\ntime\\nhas\\ncome\\nfor\\nthe\\njudiciary\\nto\\nsend\\na\\nclear\\nand\\nresounding\\nmessage\\nthat\\nsuch\\nheinous\\ncrimes\\nwill\\nnot\\nbe\\ntolerated\\nand\\nthat\\nthe\\nsanctity\\nof\\nlife\\nand\\nthe\\ndignity\\nof\\nwomen\\nmust\\nbe\\nfiercely\\nprotected\\nby\\nthe\\nfull\\nmight\\nof\\nthe\\nlaw.\\nCBI\\ninvestigates\\nKolkata\\nmurder-rape\\ncase:\\nInvestigating\\nofficers\\nfrom\\nthe\\nCBI\\nare\\nexamining\\nthe\\ncall\\ndetails\\nand\\nchats\\nof\\nSandip\\nGhosh,\\nthe\\nformer\\nprincipal\\nof\\nRG\\nKar\\nMedical\\nCollege\\nand\\nHospital,\\nin\\nconnection\\nwith\\ntheir\\nprobe\\ninto\\nthe\\nrape\\nand\\nmurder\\nof\\nthe\\nwoman\\ndoctor .\\nGhosh,\\nwho\\nappeared\\nbefore\\nCBI\\nofficers\\nfor\\nthe\\nthird\\nconsecutive\\nday\\non\\nSunday ,\\nwas\\nasked\\nto\\nprovide\\ndetails\\nof\\nthe\\nphone\\ncalls\\nhe\\nmade\\nbefore\\nand\\nafter\\nthe\\nincident\\nat\\nthe\\nhospital,\\naccording\\nto\\nan\\nofficer\\nfrom\\nthe\\ncentral\\nprobe\\nagency .\\nThe\\nCBI\\nhas\\nthe\\nmain\\naccused\\nin\\ntheir\\ncustody\\nand\\nis\\nalso\\nquestioning\\nover\\n20\\npeople\\nin\\nconnection\\nwith\\nthe\\ncase.\\nThe\\nsleuths\\nare\\nalso\\nconsidering\\ncontacting\\nthe\\nmobile\\nphone\\nservice\\nprovider\\nto\\nobtain\\ndetails\\nof\\nGhosh\\'s\\nphone\\ncalls\\nand\\ndata\\nusage.\\nThe\\nformer\\nprincipal,\\nwho\\nwas\\ninterrogated\\nby\\nthe\\nagency\\'s\\nofficers\\nfor\\nover\\n13\\nhours\\nfrom\\nSaturday\\nuntil\\npast\\nmidnight,\\narrived\\nat\\nthe\\nCBI\\noffice\\nat\\nCGO\\nComplex\\nin\\nSalt\\nLake\\nat\\n11\\nam\\non\\nSunday .\\nThe\\nCBI\\nsleuths\\nwill\\nbe\\ncross-referencing\\nGhosh\\'s\\nstatements\\nwith\\nthose\\nof\\nother\\ndoctors\\nand\\ninterns\\nwho\\nwere\\non\\nduty\\nalongside\\nthe\\ndeceased\\ndoctor\\nin\\nthe\\nchest\\nmedicine\\ndepartment\\non\\nthe\\nnight\\nof\\nthe\\nincident.\\nGovernment\\ntakes\\nsteps:\\nThe\\nUnion\\nHome\\nMinistry\\nhas\\ninstructed\\nall\\nstate\\npolice\\nforces\\nto\\nprovide\\nsituation\\nreports\\nevery\\ntwo\\nhours\\nfollowing\\nthe\\nprotests\\nby\\ndoctors,\\nnursing\\nstaff,\\nand\\nothers\\nagainst\\nthe\\nalleged\\nrape\\nand\\nmurder\\nof\\nthe\\npostgraduate\\ntrainee\\ndoctor\\nat\\nthe\\nstate-run\\nRG\\nKar\\nMedical\\nCollege\\nand\\nHospital\\nin\\nKolkata.\\nIn\\na\\ncommunication\\nto\\nthe\\nstatepolice\\nforces,\\nthe\\nHome\\nMinistry\\nemphasised\\nthat\\nthe\\nlaw\\nand\\norder\\nsituation\\nin\\nall\\nstates\\nshould\\nbe\\nmonitored\\nin\\nlight\\nof\\nthe\\nprotests.\\n\"Henceforth,\\na\\ncontinuous\\ntwo-hourly\\nlaw\\nand\\norder\\nsituation\\nreport\\nin\\nthis\\nregard\\nshould\\nbe\\nsent\\nto\\nthe\\nMHA\\ncontrol\\nroom\\n(New\\nDelhi)\\nby\\nFax/Email/WhatsApp\\nfrom\\n1600\\nhours\\ntoday ,\"\\nthe\\ncommunication\\nsent\\non\\nFriday\\nstated.\\nDoctors\\nand\\nother\\nmedical\\nstaff\\nhave\\nbeen\\nprotesting\\nacross\\ndifferent\\nparts\\nof\\nthe\\ncountry ,\\naffecting\\nthe\\nfunctioning\\nof\\nhealth\\nfacilities.\\nThey\\nare\\nadvocating\\nfor\\na\\ncentral\\nlaw\\nto\\naddress\\nviolence\\nagainst\\nhealthcare\\npersonnel,\\nthe\\ndesignation\\nof\\nhospitals\\nas\\nsafe\\nzones,\\nand\\nmandatory\\nsecurity\\nmeasures\\namong\\nother\\ndemand\\nThere\\nis\\nan\\nurgent\\nneed\\nfor\\ndevelopment\\nof\\nmethods\\nof\\nassessment\\nand\\nmanagement\\nof\\nsex\\noffenders\\n(rapists,\\nchild\\nsex\\noffenders,\\nother\\nsexual\\noffenders,\\nand\\nmurderers)\\nto\\nmount\\na\\nsociety-wide\\nbattle\\nagainst\\nthe\\nscour ge\\nof\\nsexual\\noffences\\nin\\nIndia.\\nThis\\npaper\\nprovides\\nan\\noverview\\nof\\ntheories,\\nmodels,\\nand\\nassessment\\nmethods\\nof\\nrapists.\\nIt\\ndraws\\nupon\\nliterature\\nfrom\\npsychiatry ,\\npsychology ,\\ncriminology ,\\nprobation,\\nand\\nethics\\nto\\nprovide\\na\\nframework\\nfor\\nunderstanding\\nreasons\\nbehind\\nrape,\\nhow\\nmental\\nhealth\\nissues\\nare\\nimplicated,\\nwhat\\nmental\\nhealth\\nprofessionals\\ncan\\ndo\\nto\\ncontribute\\nto\\ncrime\\nmanagement,\\nand\\nwhy\\nthis\\nis\\nethically\\nright\\nand\\nproper .\\nKeywords:\\nAssessment,\\nmental\\nhealth,\\nrape,\\nsex\\noffenders\\nG o\\nt o :\\nINTRODUCTIONIndia\\nhas\\na\\nmajor\\nproblem\\nwith\\nsexual\\ncrimes\\nagainst\\nwomen,\\nwhich\\nis\\non\\nthe\\nrise\\nrapidly\\n(NCRB\\n2013)\\n[\\nFigure\\n1\\n].\\nFigure\\n1\\nIncidence\\nof\\nsexual\\ncrimes\\nagainst\\nwomen\\nin\\nIndia\\nIt\\nranks\\nin\\nthe\\nbottom\\nfive\\nnations\\nglobally\\nwhen\\nit\\ncomes\\nto\\nsafety\\nof\\nwomen\\naccording\\nto\\na\\nrecent\\nGallup\\npoll\\n(\\nwww .gallup.com\\n).\\nMuch\\nsoul\\nsearching\\nhas\\noccurred\\nfollowing\\nthe\\nhorrific\\nsexual\\nhomicide\\nof\\na\\nwoman\\nin\\nNew\\nDelhi\\nthat\\nfocusses\\nthe\\nspotlight\\non\\nsexual\\noffences\\ngenerally\\nand\\nrape\\nin\\nparticular .\\nThe\\nVerma\\ncommission,\\ncreated\\nswiftly\\nto\\naddress\\ndeficits\\nin\\nthe\\nmanagement\\nof\\nrape\\nand\\nother\\nsexual\\noffences,\\nrecommended\\nwidespread\\nchanges.\\nSadly ,\\nit\\nfocussed\\nonly\\non\\ncriminal\\njustice\\nissues\\nof\\ndefining\\nlaws,\\nenhancing\\nprocesses,\\nand\\nincreasing\\npunishments\\nbut\\nremained\\nsilent\\non\\nthe\\nslew\\nof\\nhealth\\napproaches\\nthat\\nhave\\nbeen\\nused\\nin\\nthe\\nwest\\nand\\nincreasingly\\ncloser\\nto\\nhome\\n(e.g.,\\nSingapore)\\nin\\nthe\\nmanagement\\nof\\nsex\\noffenders.\\nThis\\narticle\\nwould\\naim\\nto\\nprovide\\na\\nbrief\\noverview\\nof\\nmental\\nhealth\\nliterature\\nrelevant\\nto\\ntheories,\\ntaxonomy ,\\nassessment,\\nand\\ndiagnosis\\nfor\\nthe\\ncomplex\\nset\\nof\\nthoughts,\\nfeelings,\\nattitude,\\nand\\nbehaviours\\nthat\\nlead\\nto\\nthe\\noffence\\nof\\nrape.\\nThis\\narticle\\nfocusses\\nonly\\non\\ngender -specific\\nrape\\n(crimes\\ncommitted\\nby\\nmales\\non\\nadult\\nfemales;\\nits\\nunderstanding,\\nassessment,\\nand\\ndiagnosis.\\nIt\\ndoes\\nnot\\naddress\\nother\\nfactors-criminological,\\nsocietal,\\nand\\ncultural-that\\nfacilitate\\nand\\nmaintain\\nthe\\ncommission\\nof\\nthis\\noffence.\\nNeither\\ndoes\\nit\\ndeal\\nwith\\nother\\nsexual\\noffences\\nsuch\\nas\\nexhibitionism,\\npaedophilia,\\nand\\nothers,\\nnor\\ndoes\\nit\\ndiscuss\\ntreatment\\noptions\\nand\\nstrategies\\ndue\\nto\\nconstraints\\nof\\nspace.\\nFinally ,\\nvictim\\nissues\\nsuch\\nas\\ntrauma\\nand\\nother\\npsychiatric\\nmorbidity\\nare\\nnot\\ndealt\\nwith\\nas\\ntrauma\\nservices\\nexist\\nin\\nIndia.\\nThe\\npaper\\nfocuses\\nsquarely\\non\\nperpetrators\\nof\\nthe\\noffence\\nof\\nrape\\nand\\nmakes\\nthe\\nargument\\nthat\\nwhile\\nanguish\\nat\\ntheir\\nactions;\\nit\\ndoes\\nnothing\\nto\\naddress\\nwhat\\nare\\noften\\nserious\\nmental\\nhealth\\nissues\\nthat\\nunderpin\\nsuch\\noffendces.\\nIt\\nends\\nwith\\na\\nsection\\non\\nthe\\nethical\\nissues\\nrelevant\\nto\\nthis\\narea\\nof\\npractice.\\nG o\\nt o :\\nDEFINING\\nRAPE\\nIn\\nlaw,\\nrape\\nis\\ndefined\\nas\\nvaginal\\nor\\nanal\\npenetration\\nin\\nthe\\nabsence\\nof\\nlawful\\nconsent.\\nHowever ,\\nthe\\nsource\\nof\\npenetration\\n(e.g.,\\npenis,\\nfinger ,\\nor\\nobjects),object\\nof\\npenetration\\n(e.g.,\\nvagina,\\nanal,\\nor\\noral),\\ngender\\nof\\nperpetrator ,\\nand\\nvictim\\nand\\ndefinition\\nof\\nconsent\\nvaries\\ngreatly\\nacross\\njurisdictions.\\nRape\\nis\\nconsidered\\nto\\nhave\\noccurred\\nwhen\\nher\\nconsent\\nhas\\nbeen\\nobtained\\nby\\n(i)\\nputting\\nher\\n(or\\nany\\nperson\\nin\\nwhom\\nshe\\nis\\ninterested,\\ne.g.,\\nchildren,\\nclose\\nrelatives)\\nin\\nfear\\nof\\ndeath\\nor\\nof\\nhurt,\\n(ii)\\nthe\\nadministration\\nby\\nhim\\npersonally\\nor\\nthrough\\nanother\\nof\\nany\\nstupefying\\nor\\nunwholesome\\nsubstance\\n(so-called\\n“date-rape”),\\nor\\n(iii)\\nwhen\\nthe\\nage\\nof\\nthe\\nvictim\\nis\\nbelow\\n16\\nyears.\\nMoreover ,\\nIndian\\nlaw\\n(section\\n375\\nof\\nIndian\\nPenal\\nCode)\\nspecifically\\nstates\\nthat\\nif\\na\\nwoman\\nconsents\\nto\\nsex,\\nthat\\nconsent\\nis\\ninvalid\\nand\\nrape\\nis\\nstill\\nconsidered\\nto\\nhave\\ntaken\\nplace\\nif\\nthe\\nwoman\\nis\\nsuffering\\nfrom\\n“\\nunsoundness\\nof\\nmind\\nor\\nintoxication\\n”\\nso\\nthat\\nshe\\nis\\nunable\\nto\\nunderstand\\nthe\\nnature\\nand\\nconsequence\\nof\\nthat\\nto\\nwhich\\nshe\\ngives\\nconsent.\\nThere\\nare\\nseveral\\ntypes\\nof\\nrape\\nthat\\nexist\\nin\\nlaw\\na.\\nPenetrative\\nrape:\\nThe\\nvagina\\nis\\npenetrated\\nby\\npenis,\\nfinger ,\\nor\\nother\\nobjects\\nb.\\nStatutory\\nrape:\\nThe\\npenis\\nis\\ntouched\\non\\nvagina\\nbut\\nno\\npenetration\\ntakes\\nplace.\\nThis\\ntype\\nof\\nrape\\ndoes\\nnot\\nexist\\nin\\nIndian\\nstatutes\\nyet\\nc.\\nMarital\\nrape:\\nWhen\\nrape\\noccurs\\nwithin\\na\\nmarriage.\\nThis\\nis\\nnot\\nyet\\nrecognized\\nin\\nIndian\\nlaw\\nd.\\nDate\\nrape:\\nWhen\\nrape\\noccurs\\nduring\\nan\\nexploratory\\nplatonic\\nromantic\\nmeeting\\nbetween\\na\\nman\\nand\\na\\nwoman,\\nwhere\\noften\\nan\\nintoxicating\\nagent\\nis\\nmixed\\nin\\nthe\\nfood\\nor\\ndrink\\nof\\nthe\\nvictim\\ne.\\nGang\\nrape:\\nWhen\\nmore\\nthan\\none\\nperson\\nrapes\\nthe\\nvictim\\nf.\\nMale\\nrape:\\nWhen\\nman\\non\\nman\\nrape\\ntakes\\nplace.G o\\nt o :\\nRAPE\\nMYTHS\\nSince\\nevents\\nin\\nlate\\nDecember\\n2013\\nwhich\\nhas\\nsparked\\na\\nwave\\nof\\nsoul-searching,\\nseveral\\nnarratives\\nof\\nwhat\\nrape\\nis\\nall\\nabout\\nhas\\nemer ged\\nfrom\\nvarious\\npeople\\n-\\nin\\npublic\\noffices,\\nreligious\\ncommunities,\\nand\\nspecial\\ninterest\\ngroups\\n-\\nplugged\\non\\nmainstream\\nmedia.\\nSome\\nof\\nthese\\ndiscourses\\nhave\\nmerely\\nrehashed\\nwhat\\nare\\nknown\\nto\\nbe\\nmyths.\\nSome\\nof\\nthese\\nmyths\\nare:\\n(a)\\nwomen\\nask\\nfor\\nsex\\nby\\nthe\\nway\\nthey\\ndress\\nand\\nbehave,\\n(b)\\nthey\\nenjoy\\nbeing\\nraped,\\n(c)\\nwomen\\nare\\nraped\\nonly\\nby\\nstrangers,\\n(d)\\nwomen\\ncould\\navoid\\nbeing\\nraped\\nif\\nthey\\nreally\\nwanted\\nto,\\n(e)\\nwomen\\ncry\\nrape\\nfor\\nrevenge\\non\\npowerful\\nmen,\\n(f)\\nrapists\\nare\\ncrazy\\nor\\npsychotic\\n(“animals”\\nis\\na\\nword\\nthat\\nis\\noften\\nused),\\nand\\n(g)\\nmost\\nrapists\\nare\\n“different”,\\n“not\\nlike\\nus.”\\nNone\\nof\\nthe\\nabove\\nare\\ngenerically\\ntrue\\neven\\nif\\nthere\\nmay\\nbe\\nsome\\ntruth\\nin\\nsome\\nrare\\nindividual\\ncases.\\nG o\\nt o :\\nWHY\\nMENTAL\\nHEALTH?\\nExtensive\\nresearch\\nover\\nthe\\npast\\n3\\ndecades\\n(and\\nmore)\\nsuggests\\nthat\\nseveral\\nmental\\nhealth\\nissues\\nunderlie\\nsexual\\nviolence\\nand\\noffending,\\nparticularly\\nrape.\\nMuch\\nof\\nthis\\nresearch\\ncomes\\nfrom\\nthe\\nwest\\nand\\nthe\\nlack\\nof\\nmeaningful\\nresearch\\non\\nrapists\\nin\\nIndia\\nhighlights\\na\\nserious\\nlacunae\\nin\\nknowledge\\nand\\nskills\\nrequired\\nto\\nmanage\\nmental\\nhealth\\nfactors\\nthat\\nunderlie\\ncriminal\\nactivities,\\na\\nrole\\nthat\\nforensic\\npsychiatrists\\ngenerally\\nplay.[\\n1\\n]Neurobiological\\nimpairments\\nRape\\nmay\\na\\nbe\\nassociated\\nwith\\norganic\\nbrain\\ndamage\\nand\\nlearning\\ndisability ,[\\n2\\n]\\ndisorders\\nassociated\\nwith\\ncongenital\\nor\\nacquired\\nbrain\\ndamage.\\nMarshall\\nand\\nBarbaree[\\n3\\n]\\nproposed\\nthat\\na\\ncritical\\ndevelopmental\\ntask\\nfor\\nadolescent\\nmales\\ninvolves\\nlearning\\nto\\ndistinguish\\nbetween\\naggressive\\nand\\nsexual\\nimpulses,\\nas\\nthis\\nhas\\nconsequences\\nfor\\ntheir\\nability\\nto\\ncontrol\\naggressive\\ntendencies\\nduring\\nsexual\\nexperiences\\nand\\nactivities.\\nThey\\nargue\\nthat\\nboth\\ntypes\\nof\\nimpulses\\n-\\nviolent\\nand\\nsexual\\n-\\noriginate\\nfrom\\nthe\\nsame\\nbrain\\nstructures.\\nFor\\nvulnerable\\nindividuals\\nwith\\nadverse\\nearly\\ndevelopmental\\nexperiences,\\ndifferences\\nin\\nhormonal\\nfunctioning\\nwill\\nmake\\nthis\\ntask\\neven\\nmore\\ndifficult.\\nRapists\\nwere\\nfound\\nto\\nhave\\nhead\\ninjuries\\n(3.9%)\\nin\\na\\nlarge\\nsample\\nin\\nSweden,[\\n4\\n]\\nand\\nsadistic\\nrapists\\nhave\\nshown\\nabnormalities\\nwithin\\nthe\\ntemporal\\nhorn,[\\n5\\n,\\n6\\n]\\nalthough\\nthe\\nclinical\\nsignificance\\nof\\nthese\\nfindings\\nremain\\nunknown\\nat\\nthe\\npresent\\ntime.\\nFor\\nan\\nexcellent\\nreview\\nof\\nneurobiological\\nfactors\\nunderlying\\nsexual\\noffending,\\nthe\\nreader\\nis\\ndirected\\nto\\na\\npaper\\nby\\nBradford.[\\n7\\n]\\nPsychiatric\\ndisorders\\nMost\\nrapists\\nare\\nnot\\nmentally\\ndisordered.[\\n8\\n]\\nPeople\\nwith\\nschizophrenia\\nor\\nrelated\\npsychoses\\nmay\\noften\\ncommit\\nrape\\nor\\nshow\\nabnormal\\nsexual\\nbehavior\\nwhich\\nis\\nrelated\\neither\\ndirectly\\nto\\nthe\\npsychosis[\\n9\\n]\\nor\\nindirectly\\nto\\ndisinhibition.[\\n10\\n]\\nSimilarly ,\\npatients\\nwith\\nhypomania\\nand\\nmania\\nbecome\\nsexually\\ndisinhibited\\nleading\\nto\\nsuch\\noffences.\\nIt\\nhas\\nbeen\\nreported\\nthat\\nthose\\ndiagnosed\\nwith\\nschizophrenia\\nare\\nfour\\ntimes\\nmore\\nlikely\\nto\\nhave\\nbeenconvicted\\nof\\na\\nserious\\nsexual\\noffence\\nthan\\nthose\\nwithout\\nmental\\nillness.[\\n11\\n]\\nIt\\nhas\\nbeen\\nproposed\\nthat\\nschizophrenia\\npatients\\nwho\\nengage\\nin\\nsexually\\noffensive\\nactivities\\n(not\\njust\\nrape)\\nfall\\ninto\\nfour\\nbroad\\ngroups:\\n(1)\\nThose\\nwith\\npre-existing\\nparaphilias,\\n(2)\\nwhose\\ndeviant\\nsexuality\\narises\\nin\\nthe\\ncontext\\nof\\nillness\\nand/or\\nits\\ntreatment,\\n(3)\\nwhose\\ndeviant\\nsexuality\\nis\\none\\nmanifestation\\nof\\na\\nmore\\ngeneralized\\nantisocial\\nbehaviour ,\\nand\\n(4)\\nother\\nfactors\\nsuch\\nas\\ndementia,\\nhead\\ninjury ,\\nor\\nsubstance\\nmisuse.[\\n11\\n]\\nIn\\nterms\\nof\\nincidence,\\nLangstrom\\net\\nal\\n.,[\\n4\\n]\\ncarried\\nout\\nthe\\nmost\\nextensive\\nstudy\\nin\\nwhich\\nthey\\nretrospectively\\nanalyzed\\npsychiatric\\ndiagnoses\\nin\\nan\\nin-patient\\nSwedish\\nsample\\nof\\n535\\nrape\\noffenders\\ndischar ged\\nfrom\\nSwedish\\nprisons.\\nThe\\nmost\\nprevalent\\ndiagnoses\\nwere\\nalchohol\\nabuse\\nor\\ndependence\\n(9.3%),\\ndrug\\nabuse\\n(3.9%),\\npersonality\\ndisorder\\n(2.6%),\\nand\\npsychosis\\n(1.7%).\\nParaphilia\\nIn\\nDiagnostic\\nand\\nStatistical\\nManual,\\n4\\nth\\nedition\\n(DSM-IV),[\\n12\\n]\\nparaphilias\\nare\\ndefined\\nin\\nthe\\nfollowing\\nterms:\\n(a)\\nAt\\nleast\\na\\n6-month\\nperiod\\nof\\nrecurrent,\\nintense,\\nsexually\\narousing\\nfantasies,\\nor\\nsexual\\nurges\\ninvolving\\nspecific\\nparaphilic\\nbehaviour ,\\nand\\nthat\\nthe\\nfantasies,\\nsexual\\nurges,\\nor\\nbehaviors;\\n(b)\\ncause\\nclinically\\nsignificant\\ndistress\\nor\\nimpairment\\nin\\nsocial,\\noccupational,\\nor\\nother\\nimportant\\nareas\\nof\\nfunctioning.\\nIn\\nthe\\nyear\\n2000,\\nDSM-IV -TR\\nadded\\nthat\\nthis\\ndiagnosis\\ncould\\nbe\\nmade\\nin\\ncertain\\ncases\\nwhere\\nindividuals,\\neven\\nthough\\nnot\\npersonally\\ndistressed\\nor\\nimpair ed\\nin\\ntheir\\nfunctioning\\n,\\nhad\\nacted\\nout\\nthe\\nurge\\nand\\ncarried\\nout\\nthe\\nbehaviors\\nwith\\na\\nnonconsenting\\nparty\\n.[\\n13\\n]\\nIn\\nInternational\\nClassification\\nof\\nDiseases,\\n10\\nth\\nrevision\\n(ICD-10),[\\n14\\n]\\nparaphilas\\nare\\ndescribed,\\nmuch\\nas\\nin\\nDSM-IV -TR,\\nas\\nbeing\\ncarried\\nout\\nto\\ngain\\nsexual\\nexcitement\\nand\\ngratification.\\nIn\\nICD-10,\\nsadism\\nand\\nmasochism\\nare\\ncombined\\nin\\none\\ncategory ,\\nwhereas\\nthey\\nform\\ntwo\\ncategories\\nin\\nDSM-IV -TR.Rape\\nas\\na\\nbehavioral\\ndisorder\\nhas\\nbeen\\nexcluded\\neven\\nthough\\npedophilia\\n(sex\\nwith\\nunderage\\nchildren),\\nsadomasochism,\\nand\\nexhibitionism\\nare\\nincluded.\\nOne\\npossible\\nreason\\ncould\\nbe\\nthat\\nrape\\nas\\na\\nbehavior\\nseems\\nso\\nsimilar\\nto\\nother\\ncriminal\\noffences\\nand\\nrapists\\nso\\nsimilar\\nto\\nproperty\\nor\\nviolent\\noffenders[\\n15\\n]\\nthat\\nit\\nwas\\nnot\\nconsidered\\nto\\nbe\\nrelated\\nto\\ndeviant\\nsexual\\narousal,\\nwhich\\npedophilia,\\nexhibitionism,\\nand\\nsadomasochism\\nundoubtedly\\nare.\\nConsequently ,\\nthe\\nDSM\\nmentions\\nrape\\nonly\\nunder\\nthe\\ndiagnosis\\nof\\nsexual\\nsadism\\n(although\\nsadism\\nincorporates\\nonly\\n5-10%\\nof\\nall\\nrape\\ncases).[\\n13\\n]\\nThe\\nICD-10\\ndoes\\nnot\\nconsider\\nrape\\nto\\nbe\\na\\ndisorder\\nand\\nthere\\nis\\nno\\nmention\\neven\\nwithin\\nthe\\ndisorder\\nof\\nsadomasochism.\\nHowever ,\\nas\\nthe\\nsubsequent\\nmaterial\\nwould\\nreveal,\\nrape\\noffenders\\nexperience\\nmany\\nof\\nthe\\ndeficits\\nand\\ndysfunctions\\nthat\\nother\\nmentally\\ndisordered\\nindividuals\\ndo.\\nIntimacy/attachment\\nproblems\\nSeveral\\nstudies\\nshow\\nthat\\nrapists\\nexperienced\\nmultiple\\nearly\\nlife\\nadversities\\nsuch\\nas\\nsexual\\nabuse,\\nphysical\\nabuse,\\nand\\ndysfunctional\\nfamily\\nrelations,[\\n16\\n]\\nwhich\\nare\\nlikely\\nto\\naffect\\ntheir\\ncapacities\\nfor\\nsecure\\nattachments\\nand\\ndeveloping\\nhealthy\\nadult\\nrelationships.[\\n17\\n]\\nSuch\\nexperiences\\ncreate\\ndeficits\\nof\\nintimacy[\\n18\\n]\\nwith\\ninsensitive\\nand\\naloof\\ninterpersonal\\nstyles[\\n19\\n]\\nand\\ndismissive\\nattachment\\ncharacterized\\nby\\nhostility\\nto,\\nsuspicion\\nof,\\nand\\nunempathic\\nand\\ncallous\\nattitudes\\ntoward\\nattachment\\nfigures.[\\n20\\n]\\nCognitive\\ndistortionsCognitive\\ndistortions\\nor\\nCD\\nare\\nerrors\\nin\\ncognitions\\nthat\\nallow\\nthe\\noffender\\nto\\nrationalize\\nand\\nminimize\\nthe\\nperceptions\\nand\\njudgements\\nused\\nby\\nthe\\nsex\\noffender\\nto\\njustify\\nhis\\nmolestation\\nbehavior .\\nIt\\nis\\nsaid\\nthat\\nmen\\nhold\\nimplicit\\ntheories\\nabout\\nthe\\nnature\\nof\\nthe\\nworld\\nwhich\\nunderlie\\ntheir\\ndistorted\\nbeliefs\\nwhich\\noften\\ndrive\\nand\\njustify\\ntheir\\nrape\\nbehavior .\\nThe\\nimplicit\\ntheories\\nproposed\\nfor\\nrapists[\\n21\\n]\\nare\\nlisted\\nbelow\\nand\\nresearch\\nhas\\nfound\\nevidence\\nfor\\nsuch\\nbeliefs:[\\n22\\n]\\n1.\\nWomen\\nare\\nunknowable:\\nRapists\\nbelieve\\nthat\\nwomen\\nare\\nfundamentally\\ndifferent\\nfrom\\nme\\nand,\\ntherefore,\\ncannot\\nbe\\nunderstood.\\nEncounters\\nwith\\nwomen\\nwill,\\ntherefore,\\nbe\\nadversarial\\nand\\nwomen\\nwill\\nbe\\ndeceptive\\nabout\\nwhat\\nthey\\nreally\\nwant.\\nAn\\nexample\\nof\\nsuch\\na\\nCD\\nmight\\nbe\\n”…\\nshe\\nis\\ndressed\\nin\\nhot\\npants\\nand\\nher\\ncleavage\\nis\\nvisible.\\nThis\\nmeans\\nshe\\nwants\\nsex\\nand\\nit\\nis\\nokay\\nfor\\nme\\nto\\nhave\\nsex\\nwith\\nher”\\nwhen\\nshe\\nsays\\n“no”\\nshe\\nactually\\nwants\\nto\\nturn\\nme\\non\\nfurther .\\n”\\n2.\\nWomen\\nare\\nsex\\nobjects:\\nThe\\nCD\\nis\\nthat\\nwomen\\nare\\nconstantly\\nreceptive\\nto\\nmen\\'s\\nsexual\\nneeds\\nbut\\nare\\nnot\\nnecessarily\\nalways\\nconscious\\nof\\nthis.\\nTheir\\nbody\\nlanguage\\nis\\nmore\\nimportant\\nthan\\nwhat\\nthey\\nsay\\nand\\nwomen\\ncannot\\nbe\\nhurt\\nby\\nsexual\\nactivity\\nunless\\nthey\\nare\\nphysically\\nharmed,\\nthat\\nis\\nbeaten\\nor\\npunched.\\nAn\\nexample\\nof\\nthis\\nmight\\nbe\\n”…\\nwhen\\nshe\\nlooks\\nfurtively\\nat\\nme\\nwhen\\nI\\nmake\\nlewd\\ncomments,\\nshe\\nis\\nactually\\ninterested\\nin\\nme.\\nSo\\nwhen\\nshe\\nsays\\n“no”\\nshe\\nis\\nactually\\nplaying\\nwith\\nme\\nto\\nturn\\nme\\non\\nfurther .\\n3.\\nMale\\nsex\\ndrive\\nis\\nuncontrollable:\\nMen\\'s\\nsexual\\nenergies\\ncan\\nbuild\\nup\\nto\\ndangerous\\nlevels\\nif\\nwomen\\ndo\\nnot\\nprovide\\nthem\\nwith\\nsexual\\nopportunities\\nand\\nonce\\naroused\\nit\\nis\\ndifficult\\nnot\\nto\\nprogress\\nto\\norgasm.\\nIn\\nIndia,\\nwith\\nits\\nculture-bound\\nsyndromes\\nof\\n“male\\nsexual\\nweakness”\\nor\\ndhat\\nsyndrome,\\none\\nmanifestation\\nof\\nsuch\\na\\nCD\\nmight\\nbe\\n“…\\nI\\nam\\ngoing\\nto\\nbecome\\nweak\\nif\\nmy\\n“dhat”\\n(semen)\\nflows\\nout\\n(prematur eejaculation\\nwhile\\nmolesting\\nor\\nsexually\\nharassing\\na\\nwoman)\\nand\\na\\nwoman\\ndoes\\nnot\\noffer\\nherself\\nto\\nme.\\n”\\n4.\\nEntitlement:\\nMen\\'s\\nneeds,\\nwhich\\ninclude\\nsexual\\nneeds,\\nshould\\nbe\\nmet\\non\\ndemand\\nby\\nwomen.\\nIn\\na\\nnation\\nlike\\nIndia\\nwith\\nmajor\\ngender -based\\ninequalities,\\nsuch\\nCDs\\nof\\nmale\\nentitlement,\\nespecially\\nif\\nthe\\nvictim\\nis\\nfrom\\nlower\\nstatus\\nfor\\nwhatever\\nreason\\n(socioeconomics,\\ncaste,\\netc.)\\ncan\\nlead\\nto\\nmarital\\nrape\\n(recommended\\nto\\nbe\\nconsidered\\na\\ncrime\\nin\\nthe\\nVerma\\nCommission\\nreport).\\n5.\\nDangerous\\nworld:\\nThe\\nworld\\nis\\na\\nhostile\\nand\\nthreatening\\nplace\\nand\\npeople\\nneed\\nto\\nbe\\non\\ntheir\\nguard,\\nbut\\nthere\\nis\\nno\\nsafe\\nhaven.\\nAn\\nexample\\nis\\n“….\\nI\\nhave\\nbeen\\nwronged\\nin\\nmany\\nways,\\nand\\nso\\nit\\nis\\nnot\\nwrong\\nfor\\nme\\nto\\ndo\\nwrongs\\nto\\nothers.\\n”\\nG o\\nt o :\\nTHEORIES\\nOF\\nRAPE\\nJust\\nas\\na\\ndiabetic\\nman\\nmay\\nbe\\na\\nrapist,\\nsimilarly\\npsychiatric\\ndiagnosis\\nmay\\ncoexist\\nin\\na\\nrape\\noffender .\\nIt\\nis\\nrisky\\nat\\nleast\\nand\\ndownright\\nnegligent\\nand\\nharmful\\nat\\nworst\\nto\\nassume\\na\\ncausal\\nlink\\nbetween\\na\\npsychiatric\\ndisorder\\nand\\nrape,\\nthat\\nis,\\nthe\\nrape\\nwas\\nthe\\ndirect\\noutcome\\nof\\nsomeone\\'s\\npsychosis,\\nbipolar\\ndisorder ,\\ndepression,\\nor\\nany\\nother\\npsychiatric\\ndisorder ,\\nunless\\nthere\\nis\\nclear\\nevidence\\nthat\\nthe\\nrape\\nwas\\ndirectly\\ncaused\\nby\\nsevere\\nsymptoms\\nwhich\\nthe\\noffender\\ncould\\nnot\\ncontrol\\nat\\nall.\\nThis\\nis\\noften\\nonly\\npossible\\nand\\nplausible\\nin\\ncases\\nof\\nsevere\\npsychosis\\nor\\nin\\nindividuals\\nwith\\nserious\\norganic\\nbrain\\ndisorders\\nor\\nsevere\\nlearning\\ndisability .\\nIn\\nmost\\ncases,\\nthere\\nis\\nmultifactorial\\ncausation\\nof\\nthe\\noffence\\nrather\\nthan\\nany\\none\\nspecific\\ncause\\n(like\\npsychosis\\nfor\\nexample).\\nIn\\norder\\nto\\nassist\\noptimal\\nassessment\\nand\\ntreatment\\nof\\nrapists,\\nacomprehensive\\nunderstanding\\nof\\nthe\\nrange\\nof\\naetiological\\ntheories\\navailable\\nto\\nexplain\\nsexual\\naggression\\nis\\nrequired.\\nThis\\nis\\nnecessary\\nin\\norder\\nto\\ndevelop\\ncase\\nformulations\\nwhich\\nare\\ntheoretically\\ndriven\\nconceptual\\nmodels\\nthat\\nrepresent\\noffenders’\\nvarious\\ndifficulties,\\nthe\\nhypothesized\\nunderlying\\nmechanisms,\\nand\\ntheir\\ninter-relationships\\nwhich\\ngive\\nrise\\nto\\nsymptoms\\nor\\nproblems.\\nA\\ncase\\nformulation\\nprovides\\na\\nrational\\nbasis\\nfor\\ndetermining\\ntreatment\\nneeds\\nthat\\nare\\nused\\nto\\ntailor\\ninterventions\\nwith\\noffenders.[\\n23\\n]\\nSexual\\noffending\\nliterature\\nconsists\\nof\\nthree\\nmain\\ntypes\\nof\\ntheories:\\nSingle-factor ,\\nmultifactor ,\\nand\\nmicrotheories.[\\n24\\n]\\na.\\nSingle-factor\\ntheories:\\nThese\\nrefer\\nto\\ntheories\\nthat\\nattempt\\nto\\nexplain\\na\\nsingle\\nunifying\\nunderlying\\ncause\\nof\\nsexual\\naggression,\\ne.g.,\\npsychodynamic,\\nevolutionary ,\\ncultural,\\nor\\nsociocognitive\\ntheories.\\nWhile\\nin\\nand\\nof\\nthemselves\\nsingle-factor\\ntheories\\ncannot\\nexplain\\ncausally\\nmany\\nof\\nthe\\nrape\\ncases,\\nthey\\ncontribute\\nin\\ngenerating\\ngood\\nmultifactor\\ntheories.\\nb.\\nMultifactor\\ntheories:\\nThese\\ncombine\\na\\nnumber\\nof\\nsingle\\nfactor\\ntheories\\ninto\\na\\ncomprehensive\\nexplanation\\nof\\ninteractions\\nand\\ncausal\\nrelationships\\nthat\\ngo\\nto\\ncreate\\na\\nfavorable\\nenvironment\\nfor\\nrape\\nto\\noccur ,\\ne.g.,\\nconfluence\\nmodel,[\\n25\\n,\\n26\\n]\\nintegrated\\ntheory ,[\\n3\\n]\\nquadripartite\\ntheory ,[\\n27\\n]\\nand\\nan\\nunification\\nof\\nall\\nthese\\ntheories\\ninto\\none\\nmetatheory\\n-\\nintegrated\\ntheory\\nof\\nsexual\\noffending.[\\n28\\n]\\nSuch\\ntheories\\nare\\nuseful\\nin\\ndeveloping\\nrisk\\nassessment\\nand\\nintervention\\nstrategies\\nfor\\ngroups\\nof\\noffenders.\\nc.\\nMicrotheories:\\nThese\\nare\\nessentially\\ndescriptive\\ntheories\\ndeveloped\\nfrom\\nan\\nanalysis\\nof\\nthe\\noffence\\ndata\\nand\\noffenders’\\naccounts\\nof\\ntheir\\nbehavior .\\nThey\\nspecify\\nhow\\noffending\\noccurs\\nin\\nterms\\nof\\ncore\\ncognitive,\\nbehavioral,\\naffective,\\nvolitional,\\nand\\ncontextual\\nfactors\\nandprovide\\nexcellent\\nshared\\nrelapse\\nprevention\\nplans\\nfor\\noffenders\\nand\\ntheir\\ntherapists/supervisors.\\nFor\\nreasons\\nof\\nbrevity\\nand\\nparsimony ,\\ndetails\\nof\\nthe\\ntheories\\nunderlying\\nsexual\\naggression\\nare\\nnot\\nprovided\\nhere\\nbut\\nthe\\ninterested\\nreader\\ncan\\nread\\nthe\\noriginal\\nworks\\ncited.\\nG o\\nt o :\\nTAXONOMY\\nOF\\nRAPISTS\\nThere\\nis\\nno\\none\\nhomogenous\\ngroup\\nof\\nrapist\\npopulation,\\nas\\nthere\\nare\\nmultifactorial\\ncausative\\nfactors\\nposited\\nby\\ntheories\\nof\\ndiffering\\npersuasions.\\nThis\\nis\\nnot\\ndissimilar\\nto\\nother\\ncomplex\\nbehavioral\\nproblems\\nwith\\nmultiple\\nunderlying\\nmotivations\\nwithin\\na\\ncontext\\nof\\nvaried\\nmental\\ndisorders,\\nfor\\nexample,\\nself-harm\\n(Sarkar\\n2011).[\\n29\\n,\\n30\\n]\\nOne\\nway\\nof\\nattempting\\nto\\nreduce\\nthe\\nheterogeneity\\nis\\nto\\nproduce\\nsmaller\\ndescriptive\\ncategories\\n(or\\ntaxonomies)\\nthat\\ncould\\nbe\\nused\\nto\\nguide\\ntreatment\\ndecisions.\\nThere\\nare\\nmany\\ntaxonomies\\navailable\\nbut\\none\\nof\\nthe\\nmost\\nrobust,\\nwidely\\nused,\\nand\\nmethodologically\\nsound\\ntypological\\nsystems\\nto\\ndate\\nis\\nthe\\nMassachusetts\\nTreatment\\nCentre\\nRapist\\nTypology:\\nVersion\\n3\\n(MTC:R3)\\nwhich\\nuses\\nboth\\ntheory\\nand\\nempirical\\ndata.[\\n31\\n]\\nThis\\nmodel\\nuses\\nmotivating\\ndimensions\\nto\\ndescribe\\nsix\\ndifferent\\ntypes\\nof\\nrapists,\\nwhich\\nis\\nas\\nfollows:\\na.\\nOpportunistic\\nrapist:\\nOffences\\nare\\nunplanned\\nand\\nimpulsive\\nand\\nimmediate\\nsexual\\ngratification\\nis\\nsought,\\nwith\\nforce\\nused\\nas\\nnecessary .\\nOffences\\nare\\ndriven\\nlargely\\nby\\nimmediate\\nantecedent\\nevents\\n(situationalfactors)\\nrather\\nthan\\npersonal\\npsychopathology ,\\nfor\\nexample,\\nlate\\nnight,\\nlone\\nisolated\\nfemale,\\nno\\nwitnesses\\naround.\\nSexual\\nassault\\nis\\none\\nof\\nmany\\ninstances\\nof\\npoor\\nimpulse\\ncontrol.\\nb.\\nAnger\\nrapist:\\nHis\\noffence\\nis\\ndriven\\nby\\nextreme\\ngratuitous\\naggression,\\nsevere\\nviolence,\\nand\\na\\nhistory\\nof\\nprevious\\nantisocial\\noffending,\\nserious\\nphysical\\ninjury\\nto\\nthe\\nvictim\\nis\\ncaused.\\nc.\\nSexual\\nrapist:\\nHe\\nis\\ndriven\\nby\\npreoccupation\\nwith\\nsexual\\nfantasies\\nand\\nurges\\nand\\nis\\nbest\\ncaptured\\nby\\nthe\\ndiagnosis\\nof\\nParaphillia\\n–\\nNot\\notherwise\\nspecified\\n(DSM-IV -TR)\\nd.\\nSexually\\nnonsadistic\\nrapist:\\nHe\\nis\\ndriven\\nby\\nsexual\\nfantasies\\nand\\nurges\\ntoo,\\nbut\\nthe\\nsexual\\narousal\\nis\\ninappropriate\\nin\\nnature\\n(e.g.,\\nfetish),\\nthere\\nare\\noffence\\nsupportive\\nbeliefs\\nand\\nfeelings\\nof\\ninadequacy\\nregarding\\nmasculinity\\nand\\nsex.\\ne.\\nSexually\\nsadistic\\nrapist:\\nThe\\nmotivation\\nfor\\nthis\\nrapist\\nis\\nnot\\nsexual\\nbut\\nfantasies\\nof\\ndegradation\\nand\\nhumiliation\\nof\\nand\\npower\\nand\\ncontrol\\nover\\nthe\\nvictim,\\nbest\\ncaptured\\nby\\nthe\\ndiagnosis\\nof\\nsexual\\nsadism\\nin\\nthe\\nDSM-IV -TR.\\nf.\\nVindictive\\nrapist:\\nHis\\ndrive\\nis\\npredominantly\\nanger ,\\nbut\\nunlike\\nthe\\nangry\\nrapist,\\nhis\\nanger\\nand\\naggression\\nis\\nfocussed\\nexclusively\\non\\nwomen.\\nHis\\nbehavior\\nis\\nintended\\nto\\nhumiliate\\nand\\ndegrade\\nvictims\\nwith\\nlittle/no\\nevidence\\nof\\neroticised\\naggression\\nand\\nlow\\nlevels\\nof\\nimpulsivity .\\nSome\\nof\\nthese\\ntypologies\\ninclude\\nfurther\\nsubdivisions\\nin\\nterms\\nof\\nhigh\\nor\\nlow\\nsocial\\ncompetence\\nand\\nthe\\noffence\\nbeing\\nsadistic\\nin\\novert\\nor\\nmuted\\nmanner .[\\n32\\n]\\nG o\\nt o :\\nASSESSMENTIt\\nis\\nhighly\\nunlikely ,\\nwell-nigh\\nimpossible,\\nthat\\na\\nman\\nwill\\nvoluntarily\\nadmit\\nto\\nrape\\nand\\nsubject\\nhimself\\nto\\na\\npsychiatric\\nevaluation\\nas\\nhe\\nruns\\nthe\\nrisk\\nof\\nbeing\\napprehended\\nand\\nprosecuted.\\nHe\\nis,\\ntherefore,\\ndifferent\\nfrom\\nmost\\nother\\nindividuals\\nwho\\nseek\\nassessment.\\nThey\\nare\\na\\ndifficult\\ngroup\\nto\\nassess\\ncompared\\nto\\nindividuals\\nwho\\nare\\nnot\\nfacing\\ncharges\\nof\\ncrime\\nor\\neven\\nin\\ncomparison\\nwith\\nviolent\\noffenders\\nfor\\nreasons\\nof\\ndeception\\nand\\ndenial\\nthat\\noften\\ncharacterize\\ntheir\\npresentation\\nduring\\nan\\nassessment.\\nBeing\\nsent\\nfor\\nmandatory\\nassessments\\nby\\ncriminal\\njustice\\nagencies,\\ncoupled\\nwith\\nshame\\nof\\nwhat\\nthey\\nare\\nalleged\\nto\\nhave\\ndone,\\nare\\ntwo\\nof\\nthe\\nmany\\nfactors\\nthat\\nmake\\nsuch\\nassessments\\ndifficult.\\nConsequently ,\\nit\\nis\\nimportant\\nto\\nhave\\nclear\\nprocess\\n(structure),\\nknowledge\\n(of\\nsexual\\nand\\ncriminogenic\\nissues),\\nand\\ntechniques\\n(skills)\\nrather\\nthan\\ntheories\\nand\\nexperience\\n(of\\ncarrying\\nout\\nassessment\\nfor\\nnon-of fenders\\nor\\noffenders\\nwith\\nviolent\\ncrimes)\\nwhen\\nit\\ncomes\\nto\\nassessing\\nsex\\noffenders.\\nThe\\nfocus\\nof\\na\\npsychiatric\\nevaluation\\nis\\nas\\nmuch\\nabout\\nthe\\n“what”\\nof\\nthe\\nbehavior ,\\nas\\nwell\\nas\\nthe\\n“how”\\nthat\\nbehavior\\nis\\nassessed.\\nThe\\nfollowing\\nsection\\nis\\nwritten\\nbased\\non\\na\\nfictional\\nsubject\\nwho\\nis\\nbeing\\nassessed\\non\\nrequest\\nof\\ncriminal\\njustice\\nagencies\\n(police,\\nprison,\\nprobation,\\netc.)\\nor\\ncourts.\\nIt\\nis\\nof\\ncourse\\napplicable\\nto\\nthose\\nvoluntarily\\nseeking\\nhelp.\\nAssessor\\'s\\nfeatures\\nUsually ,\\nthe\\nsubject\\nis\\nlikely\\nto\\nbe\\nvery\\nanxious\\nat\\nthe\\nbeginning\\nof\\nthe\\ninterview\\nin\\naddition\\nto\\nbeing\\nkeen\\nto\\npresent\\nhimself\\nin\\nthe\\nbest\\npossible\\nlight.\\nThis\\nmay\\npresent\\nas\\nhostility ,\\nevasiveness,\\nor\\nin\\nsome\\nother\\nway.\\nIt\\nis\\nimportant\\nnot\\nto\\nbecome\\nauthoritarian\\nor\\ndismissive\\nin\\na\\nreaction\\nto\\nthis\\npresentation.\\nThe\\nassessor\\nmust\\nlay\\ndown\\n“ground\\nrules”\\nfrom\\nthe\\noutset,\\nbeing\\nclear\\nabout\\nhow\\nmany\\ntimes\\nyou\\nare\\nlikely\\nto\\nmeet,\\nwhat\\nwill\\nbe\\nasked,\\nthe\\nlack\\nof\\nconfidentiality\\nrules\\nthat\\ngovern\\nusual\\ndoctor -patient\\ninteractions,what\\nwill\\nhappen\\nto\\nthe\\ninformation\\nfrom\\ninterview .\\nYou\\nmust\\nclarify\\nwhat\\nyour\\nrole\\nis\\nand\\nwhat\\ninformation\\nyou\\nalready\\nhave\\naccess\\nto.\\nEstablishing\\nthis\\nframework\\nallows\\nthe\\ninterviewee\\na\\ngreater\\nsense\\nof\\ncontainment\\nand\\nhelp\\nto\\nestablish\\na\\nrapport\\nthat\\nis\\nbased\\non\\nhonesty .\\nCare\\nmust\\nbe\\ntaken\\nto\\nmaintain\\na\\nless\\nthreatening\\natmosphere\\nin\\nthe\\ninterview\\nand\\nit\\nis\\nhelpful\\nto\\nbegin\\nwith\\nmore\\nbasic\\ninformation\\nand\\nbuild\\nup\\nto\\nmore\\ncomplex\\nand\\ndetailed\\ninformation.[\\n10\\n]\\nFeatures\\nin\\nthe\\nassessor\\nthat\\nis\\nrelated\\nto\\npositive\\noutcomes[\\n33\\n]\\nare\\nlisted\\nin\\nTable\\n1\\n.\\nTable\\n1\\nAssessor\\'s\\nfeatures\\nClinical\\ninterview\\nThe\\ninterview\\nshould\\ninclude\\ninformation\\nthat\\nallows\\na\\nbuilding-up\\nof\\npicture\\nof\\nthe\\nperson\\nrather\\nthan\\na\\ntruncated\\nmental\\nstate\\nevaluation\\nalone.\\nSome\\nof\\nthe\\ntopics\\nto\\ncover\\nin\\nthe\\nclinical\\ninterview\\nare\\ngiven\\nbelow .[\\n10\\n]\\nClinical\\nhistory\\na.\\nEarly\\nlife\\nexperiences:\\nDetails\\nof\\nany\\nconflict\\nexperienced\\nas\\na\\nchild\\nand\\nhow\\nthis\\nwas\\nmanaged,\\nfamily\\nhistory\\nof\\nmental\\nillness,\\ndrug\\nabuse\\nand\\ncriminality ,\\ndetails\\nof\\nhow\\nwomen/children\\nwere\\ntreated\\nin\\nthe\\nfamily\\nhome\\nand\\nhow\\nthis\\nmay\\nhave\\nshaped\\nsubsequent\\nattitudes\\nand\\nbehaviour\\nb.\\nEducation\\nhistory:\\nDetails\\nof\\nbullying\\n(victim\\nor\\nperpetrator)\\nand\\nconflict\\nwith\\nauthority\\nfigures,\\ntheir\\nability\\nto\\nform\\nand\\nsustain\\nrelationships\\nc.\\nOccupational\\nhistory:\\nInformation\\nabout\\nany\\nconflict\\nwith\\nemployers\\nand\\ncolleagues,\\nany\\nindication\\nof\\nsexualized\\nbehaviors\\nat\\nplace\\nof\\nwork,\\nhow\\nlong\\nthey\\nspent\\nin\\njob/s\\nand\\nwhy\\nthey\\nleft\\nd.\\nPsychosexual\\nhistory:\\nThis\\nmust\\nbe\\nassessed\\nin\\ngreat\\ndetail\\nand\\nis\\nsummarized\\nin\\nAppendix\\n1\\ne.\\nHobbies/interests/friends/skills:\\nThese\\nprovide\\na\\nglimpse\\ninto\\nhealthier\\naspects\\nof\\none\\'s\\nlife\\nf.\\nPrevious\\nforensic\\nhistory:\\nNonsexual\\noffending\\nhistory ,\\nspecific\\ninformation\\nsought\\nabout\\nwhat,\\nwhen,\\nwho,\\nand\\nso\\non\\nin\\norder\\ndevelop\\nunderstanding\\nof\\nthe\\npattern\\nof\\noffending\\ng.\\nOffence\\nanalysis:\\nThis\\nmust\\nbe\\ndone\\nin\\ngreat\\ndetail\\nand\\na\\nrecommended\\napproach\\nis\\nsummarised\\nin\\nAppendix\\n2h.\\nPrevious\\nand\\ncurrent\\npsychiatric\\nissues:\\nRecord\\nage\\nof\\nonset\\nboth\\nof\\nmental\\ndisorder\\nand\\nsexually\\ninappropriate\\n(even\\nif\\nnot\\nrape)\\nas\\nthis\\nwill\\nprovide\\nclues\\nto\\nlinks\\nbetween\\nthe\\ntwo;\\nassess\\npresence\\nof\\nfantasies,\\nurges,\\nand\\nsexual\\npreoccupations\\nand\\nruminations\\nthat\\nmay\\nbecome\\nuncontrollable\\nunder\\ncertain\\nsituations;\\nassess\\nif\\ndeviant\\nfantasies\\noccurred\\nbefore,\\nduring,\\nor\\nafter\\nonset\\nof\\nany\\naxis\\nI\\ndisorder;\\nassociation\\nof\\nalchohol\\nor\\ndrug\\nuse\\nin\\nrelation\\nto\\nrape.[\\n2\\n]\\ni.\\nPersonality:\\nUsual\\npatterns\\nof\\nstress-coping-social\\nsupport\\navailable,\\nattitudes,\\nself-image,\\nand\\nso\\non.\\nj.\\nBarriers\\nto\\ntreatment:\\nMotivation\\nto\\nchange,\\nguilt,\\ndenial,\\npractical\\ndifficulties,\\nand\\nso\\non.\\nMotivational\\ninterviewing\\nRapists\\nare\\nwell-known\\nto\\nbe\\nvery\\ndefensive\\nabout\\ntheir\\nactions\\nand\\nengage\\nin\\ndenial\\nthat\\nrange\\nfrom\\nslight\\nminimization\\nto\\noutright\\ndenial.\\nIt\\nis\\nimportant\\nto\\naccept\\nthis\\nas\\npart\\nof\\nthe\\nassessment\\nand\\nto\\nignore\\nanswers\\nthat\\nyou\\nknow\\nto\\nbe\\nuntruthful,\\nat\\nleast\\nin\\nthe\\nearly\\nstages\\nof\\nthe\\ninterview ,\\nin\\norder\\nto\\nmaintain\\nrapport\\nand\\nto\\nfacilitate\\ndisclosure\\nof\\nsensitive\\nmaterial.\\nIt\\nis\\nthought\\ndenial\\nis\\nthe\\nonly\\nmeans\\na\\nperson\\nhas\\nto\\ncope\\nwith\\nthe\\nshame\\nthey\\nmay\\nfeel\\nby\\ntheir\\nbehavior .\\nIt\\nis\\nknown\\nthat\\nanxiety\\nand\\nguilt\\nincrease\\nshame\\nand,\\nhence,\\nthe\\ninterviewer\\nshould\\ntake\\nevery\\nsensible\\nstep\\nto\\nminimize\\nand\\nmoderate\\nthe\\namount\\nof\\nanxiety\\nthat\\nthe\\nperson\\nexperiences\\nduring\\nthe\\ninterview .Motivational\\ninterviewing\\nis\\nan\\napproach\\ndesigned\\nto\\nreduce\\nthe\\nneed\\nfor\\ndefensiveness,\\nhostility ,\\nand\\nanxiety\\nin\\na\\nself-protective\\ninterviewee.[\\n10\\n]\\nDerived\\nfrom\\nthe\\ntranstheoretical\\nmodel\\nof\\nmotivation\\nfor\\nproblem\\ndrinkers\\nto\\nfacilitate\\nengagement\\nin\\ntreatment\\nprogram,[\\n10\\n]\\nthe\\nmodel\\nhelps\\nthe\\nindividual\\nto\\nmove\\nthrough\\nvarious\\nstages.\\nThese\\ninclude\\nthe\\nstages\\nof\\nprecontemplation\\n(denial\\nof\\nthe\\nproblem),\\nto\\ncontemplation\\n(accepting\\nthere\\nis\\na\\nproblem\\nbut\\nambivalent\\nabout\\nchange),\\nto\\ndetermination\\n(decides\\nchange\\nis\\nnecessary),\\nto\\naction\\n(engaging\\nin\\ntreatment),\\nto\\nmaintenance\\n(remaining\\nfree\\nof\\nrelapse).\\nSexual\\noffending\\nhas\\nbeen\\nconsidered\\nto\\nbe\\nan\\n“addiction”\\nin\\nterms\\nof\\nbeing\\nrepetitive,\\nself-reinforcing\\nbehavior\\noften\\nused\\nto\\ncounter\\na\\nnegative\\nmood\\nstate.[\\n34\\n]\\nPsychological\\nassessment\\nUnderstanding\\nthe\\npsychological\\ncharacteristics\\nof\\nan\\noffender\\nand\\nmaking\\nrisk\\nassessments\\nof\\nfuture\\noffending\\nbehavior\\nare\\nmajor\\nelements\\nof\\nany\\nsex\\noffender\\ntreatment\\nprogram.\\nSeveral\\ntypes\\nof\\nrisk\\nassessments\\nare\\ncarried\\nout.\\nThese\\nwill\\nnot\\nbe\\ndescribed\\nin\\nany\\nlength\\nbut\\nthe\\nfollowing\\nsection\\nwill\\nprovide\\na\\nbrief\\nsummary\\nof\\nthe\\ntypes\\nof\\ninstruments\\nthat\\nare\\nroutinely\\nused\\nin\\nthis\\ntype\\nof\\nwork.\\nTwo\\ntypes\\nof\\nrisks\\nare\\nassessed-static\\nand\\ndynamic\\nrisks.\\nStatic\\nrisk\\nfactors\\nrefer\\nto\\nthose\\nfactors\\nthat\\nare\\nunchangeable,\\nfor\\nexample,\\nhistorical\\nfacts\\nsuch\\nas\\nnumber\\nof\\nprevious\\nconvictions.\\nDynamic\\nrisk\\nrelate\\nto\\nthose\\nrisk\\nfactors\\nthat\\nare\\nsusceptible\\nto\\nchange\\nwith\\ntreatment\\nand\\nthat\\ncan\\nbe\\nused\\nas\\nmarkers\\nof\\ntreatment\\nresponse\\nand\\nfurther\\nrisk\\nprediction.\\nThere\\nare\\ntwo\\ntypes\\nof\\ndynamic\\nfactors:\\nStable\\nand\\nacute.\\nStable\\nrisk\\nfactors\\nrelate\\nto\\npersonality\\ncharacteristics\\nand\\nlearned\\nbehavior\\nthat\\nmay\\nbe\\nchanged\\nthrough\\ninterventions.\\nFinally ,\\nacute\\nrisk\\nfactors\\nare\\nthose\\nshort-term\\nor\\ntemporary\\nfactors\\nwhich\\ncan\\nchange\\nrapidly\\nand\\nare\\nimplicated\\nin\\nrelapseprevention.\\nTo\\nillustrate\\nit\\nwith\\nan\\nexample\\nfrom\\ncardiology ,\\nstatic\\nrisk\\ncorresponds\\nto\\ngenetic\\nvulnerability\\n(long-term\\nrisk),\\nstable\\nrisk\\ncorresponds\\nwith\\ncharacteristics\\nsuch\\nas\\nblood\\npressure,\\ncholesterol\\nlevels\\n(targets\\nfor\\ntreatment),\\nand\\nacute\\nfactors\\ncorrespond\\nwith\\nimmediate\\nbehaviors\\nof\\nconcern\\nsuch\\nas\\nsmoking,\\ndiet,\\nand\\nlack\\nof\\nexercise\\n(monitoring\\nand\\nsupervision).\\nRisk\\nOne\\nof\\nthe\\nbetter\\nand\\ncommonly\\nused\\nstatic\\nrisk\\nassessment\\ninstruments\\nis\\nthe\\nRisk\\nMatrix.[\\n35\\n]\\nIt\\nuses\\ninformation\\nsuch\\nas\\nage,\\nnumber\\nof\\nappearances\\nin\\ncourt\\nfor\\nsexual\\nand\\ncriminal\\n(nonsexual)\\noffences,\\ngender\\nof\\nvictim\\n(if\\nmale,\\nthen\\nmore\\nrisky),\\nstranger\\nvictims,\\nif\\nperpetrator\\nis\\nsingle\\n(implies\\nintimacy\\ndeficits)\\nand\\nnoncontact\\nsexual\\noffences\\n(exhibitionism,\\nsexual\\nharassment,\\netc.).\\nThornton[\\n36\\n]\\nalso\\nprovides\\nthe\\nstructured\\nassessment\\nof\\nrisks\\nand\\nneeds\\nwhich\\nassesses\\nvarious\\ndynamic\\nrisk\\nfactors\\nand\\ncategorises\\nthem\\ninto\\nfour\\nrisk\\ndomains.\\nSummated\\nscore\\non\\neach\\ndomain\\nallow\\ntreatment\\nto\\nbe\\ntargeted\\nto\\nthose\\ndomains\\nwith\\nmonitoring\\nof\\nrisk\\nscores\\n(alongside\\nclinical\\nevidence)\\nused\\nto\\nmeasure\\nchange.\\nThese\\nfour\\ndomains\\nare\\nas\\nfollows:\\n●\\nSexual\\ninterests-includes\\nsexual\\npreoccupation,\\nsexual\\npreference\\n(for\\nchildren\\nor\\nviolence),\\nand\\nso\\non.\\n●\\nDistorted\\nattitudes\\nand\\nbeliefs-CDs\\nand\\noffence-supportive\\nbeliefs,\\netc.●\\nSocio-af fective\\nmanagement-emotional\\nregulation,\\nintimacy\\ndeficits,\\nand\\nso\\non.\\n●\\nSelf-management-poor\\nproblem-solving\\nskills,\\nlifestyle\\nimpulsiveness,\\nand\\nso\\non.\\nSome\\nof\\nthe\\nother\\nwell-validated\\ninstruments\\nused\\nfor\\nrisk\\nassessments\\ninclude\\nsex\\noffender\\nrisk\\nappraisal\\nguide,[\\n37\\n]\\nStatic-99,[\\n38\\n]\\nsexual\\nviolence\\nrisk.[\\n39\\n]\\nThere\\nare\\nmany\\nothers\\nwhich\\ncannot\\nbe\\ndescribed\\nhere\\nbut\\nthe\\nmoot\\npoint\\nis\\nthat\\nstructured\\nrisk\\nassessments\\nare\\nan\\nintegral\\npart\\nof\\nsex\\noffender\\ntreatment\\nand\\neven\\nif\\nthey\\nmay\\nnot\\npredict\\nrisks\\nwith\\nfool-proof\\naccuracy ,\\nthey\\nincrementally\\nadd\\nto\\nthe\\nrisk\\npredictions\\nas\\ndetermined\\nby\\nreconviction\\ndata.[\\n40\\n]\\nPersonality\\nfeatures\\nA\\nbattery\\nof\\ntests\\nare\\nused\\nto\\nmeasure\\nconstructs\\nrelevant\\nto\\nrape\\nsuch\\nas\\nemotional\\nloneliness,\\nsocial\\ncompetence,\\ndeficits\\nin\\nempathy ,\\nCDs,\\npersonality\\nassessment,\\nimpulsivity\\nscale,\\ndeception\\nscale,\\nand\\nothers.\\nThese\\nappear\\nto\\ndistinguish\\nthose\\nwho\\nbenefit\\nfrom\\ntreatment\\nfrom\\nthose\\nwho\\nhave\\nnot.[\\n41\\n]\\nG o\\nt o :\\nPENILE\\nPLETHYSMOGRAPHYPhallometry\\nor\\nmeasurements\\ninvolving\\nthe\\nphallus\\nis\\nused\\nin\\nthe\\nassessment\\nand\\nmonitoring\\nof\\nsex\\noffenders\\nas\\nit\\ndeals\\nwith\\nsome\\nof\\ndifficulties\\nassociated\\nwith\\npsychometric\\nmeasures.\\nThese\\ndifficulties\\ninclude\\nlimited\\ndiscriminate\\nor\\npredictive\\nvalidity ,\\nself-report\\nbias,\\nand\\nlimitation\\nof\\ndeception\\nscales.\\nOne\\nof\\nthe\\nmost\\ncommon\\nmethods\\nis\\npenile\\nplethysmography\\n(PPG),\\nwhich\\ndetermines\\nsexual\\narousal\\nby\\nmeasuring\\nincreases\\nin\\npenile\\ntumescence\\n(volume\\nor\\ncircumference)\\nor\\nblood\\nflow\\nin\\nresponse\\nto\\nvisual\\n(still\\nor\\nmoving),\\nauditory\\n(scripted\\nstories)\\nimaginal\\nand\\nolfactory\\nstimuli.[\\n42\\n]\\nAs\\nsexual\\narousal\\ncannot\\nbe\\ndirectly\\nobserved,\\nPPG\\noffers\\na\\ndirect\\nphysiological,\\nalbeit\\nintrusive\\nmethod\\nof\\nassessing\\nwhat\\ncauses\\nsexual\\narousal\\nin\\nrapists.\\nIt\\nis\\nnot\\nwithout\\ncriticism\\nas\\nsome\\nargue\\nthat\\nthe\\nstimuli\\nused\\nto\\ngenerate\\narousal\\namounts\\nof\\nshowing\\npornographic\\nmaterial\\nto\\noffenders.[\\n2\\n]\\nOther\\nconcerns\\nrelate\\nto\\nlack\\nof\\nstandardization\\nof\\nmethodology ,\\nlimited\\ncontrol\\ndata\\nfor\\nnormal\\npopulations,\\nand\\nthe\\nability\\nof\\npeople\\ntaking\\nthe\\ntest\\nto\\nfake\\nnon-arousal\\nby\\nvarious\\nmeans.[\\n43\\n]\\nNevertheless,\\nwhen\\nused\\nwithin\\nan\\narray\\nof\\nother\\ntests,\\nphallometry\\ncan\\nprovide\\nvery\\nuseful\\ninformation\\nin\\nterms\\nof\\nidentifying\\nfocus\\nfor\\ntreatment.[\\n44\\n]\\nG o\\nt o :\\nETHICAL\\nISSUES\\nAs\\ndiscussed\\nearlier ,\\nrape\\nis\\nnot\\na\\nmental\\ndisorder\\nby\\nitself.\\nAs\\na\\npsychiatric\\ndiagnosis\\nis\\na\\nprerequisite\\nfor\\ncivil\\nand\\ncriminal\\ncommitment,\\nforensic\\nmental\\nhealth\\nclinicians\\nhave\\ntended\\nto\\nuse\\nthe\\nparaphillia-not\\notherwise\\nspecified\\n(PNOS)\\ndiagnosis.\\nControversy\\nexists\\naround\\nusing\\nsuch\\nas\\n“rag-tag”\\ndiagnosis\\nfor\\ncommitment\\nof\\nrapists\\nunder\\nthe\\nsexually\\nviolent\\nperson\\nor\\nsexually\\ndangerous\\npredator\\nlaws\\nin\\nUnited\\nStates\\nto\\ndetain\\nhigh-risk\\nrapists\\nin\\nsecure\\nconditions\\nbeyond\\ntheir\\nterms\\nof\\nimprisonment.[\\n45\\n]\\nThe\\ninterestedreader\\nis\\ndirected\\nto\\nan\\nexcellent\\nreview\\nof\\na\\nproponent\\'s[\\n46\\n]\\nand\\nan\\nopponent\\'s\\nview\\non\\nthis\\nmatter .[\\n47\\n]\\nThere\\nis,\\nhowever ,\\na\\nlarger\\nethical\\nissue\\nbeyond\\nthe\\nvarious\\narguments\\nthat\\nexperts\\nmay\\noffer\\nand\\nclinical\\ndiagnostic\\ncriteria.\\nPsychiatrists\\nare\\nfirst\\nand\\nforemost\\ndoctors\\nand\\nshould\\nwork\\nwithin\\nthe\\nethical\\nprinciples\\nof\\n“beneficence”\\nand\\n“nonmaleficence,”\\nthat\\nis\\ndoing\\ngood\\nand\\navoiding\\nharm\\n.[\\n48\\n]\\nHowever ,\\ntheir\\ninvolvement\\ncan\\nbe\\nethically\\njustified\\nby\\narguing\\nthat\\nby\\ndetaining\\nand\\ntreating\\nthe\\npatient\\n(no\\nlonger\\nconsidered\\njust\\na\\n“bad\\nguy”\\nwho\\nneeds\\nonly\\npunishment),\\nthe\\npsychiatrist\\nis\\nhelping\\nthe\\nperson,\\nwhich\\notherwise\\nwould\\nnot\\nhave\\nbeen\\npossible.\\nThe\\nRoyal\\nCollege\\nreport\\nsuggests\\nthat\\nthere\\nare\\npotentially\\nfour\\nways\\nin\\nwhich\\nthis\\nquestion\\ncan\\nbe\\nanswered\\nand\\nethical\\njustifications\\nare\\nprovided\\nfor\\neach\\nof\\nthe\\npositions\\nadopted.\\nDo\\npsychiatrists\\nhave\\na\\nduty\\nto\\nget\\ninvolved\\nin\\ncrime\\nmanagement\\nand\\nprevention\\nby\\nthe\\nlaw\\nenforcement\\nagencies,\\neven\\nif\\nsome\\noffenders\\nmay\\nsuffer\\nfrom\\nmental\\ndisorder ,\\nif\\npsychiatric\\ninvolvement\\nmay\\nlead\\nto\\nuncovering\\nof\\nmore\\noffending\\nbehavior ,\\npresence\\nof\\nsevere\\nantisocial\\npersonality\\ndisorder ,\\nor\\nlonger\\nthan\\nnormal\\ntime\\nin\\ndetention?\\nThere\\nare\\nfour\\npossible\\nethical\\npositions\\nthat\\na\\npsychiatrist\\ncan\\ntake.\\nS/he\\ncan\\nadopt\\nthe\\ntraditional\\nmedical\\nethics\\nmodel\\nof\\nbeneficence\\nand\\nnonmaleficence\\nas\\none\\nextreme\\nstance\\nand\\nrefuse\\nto\\nbe\\ninvolved\\nin\\neven\\nassessing\\nindividuals,\\nunless\\nthere\\nis\\na\\n“welfare”\\ndisposal,\\nthat\\nis,\\nthere\\nis\\nsome\\nscintilla\\nof\\nbenefit\\nto\\nthe\\nindividual.\\nA\\nfurther\\nextension\\nof\\nthis\\nposition\\nis\\nto\\nonly\\nact\\nfor\\nthe\\ndefence\\nwhen\\nthe\\nassessment\\nis\\nclearly\\nwithin\\na\\nframework\\nof\\npotential\\nbenefit\\nto\\nthe\\nperson.\\nAt\\nthe\\nother\\nextreme,\\nthe\\npsychiatrist\\ncan\\nbecome\\ninvolved\\nas\\na\\npure\\n“\\nforensicist\\n,”\\nthat\\nis,\\nin\\ndoing\\nso\\nthey\\nare\\nnot\\nacting\\nas\\na\\ndoctor\\nbut\\na\\nrisk\\nspecialist\\nwho\\ncan\\ngive\\nevidence\\nthat\\ncould\\nlead\\nto\\nenhanced\\npunishment.[\\n49\\n]\\nIn\\nbetween\\nthese\\npoles,\\nthe\\npsychiatrist\\ncan\\nchoose\\nto\\noperate\\nfrom\\ntheframework\\nof\\njustice\\nethics,\\nthat\\nis,\\nit\\nis\\nin\\neverybody\\'s\\ninterests\\nthat\\nthere\\nis\\ngood-quality\\nevidence\\navailable\\nto\\nthe\\ncourt\\nin\\nrelation\\nto\\nmaking\\njust\\ndecisions.[\\n50\\n]\\nHowever ,\\nthere\\nis\\na\\nbigger\\nquestion\\nwhen\\nsuch\\nissues\\nare\\nconsidered\\nwith\\nregards\\nto\\nIndia.\\nIt\\nhas\\nbeen\\nlamented\\nelsewhere\\nthat\\nforensic\\npsychiatry ,\\nthe\\nprofession\\nthat\\nis\\ndirectly\\nimplicated\\nin\\nthe\\ntype\\nof\\nwork\\ndescribed\\nin\\nthis\\npaper ,\\ndoes\\nnot\\nexist\\nas\\na\\nspecialty\\nin\\nIndia[\\n1\\n]\\neven\\nthough\\nsome\\ngeneral\\npsychiatrists\\nin\\nvarious\\ninstitutions\\ndeal\\nwith\\nthe\\ncourts\\nand\\npolice.\\nAs\\nsuch\\nmany\\nmight\\nregard\\nthe\\ncontent\\nof\\nthis\\npaper\\nwith\\nalarm\\nas\\nit\\nputs\\nthe\\npsychiatrist\\nin\\nthe\\ngaze\\nof\\nmedia\\nand\\nlegal\\nspotlight\\nwith\\nits\\nown\\ndisadvantages\\nif\\none\\ngets\\nit\\nwrong.\\nIt\\nis,\\ntherefore,\\nessential\\nthat\\nthe\\nIndian\\npsychiatric\\nsociety\\nand\\nthe\\nlaw\\nand\\nhome\\nministries\\nof\\nthe\\nnation\\nconsider\\nwhat\\ncontribution\\nand\\nimpact\\nmental\\nhealth\\nprofessionals\\ncan\\nmake\\nin\\ncrime\\nprevention\\nand\\nits\\nmanagement.\\nIt\\nis\\nimperative\\nthat\\nindividuals\\ndo\\nnot\\njump\\ninto\\nthe\\nfield\\nwithout\\nproper\\ntraining\\nand\\nexperience\\nas\\nthe\\nfield\\ncan\\nbe\\nquite\\nchallenging\\nand\\ncan\\noften\\nspell\\nthe\\ndoom\\nfor\\nunsuspecting\\ndoctors\\nif\\nshe\\ngets\\nit\\nwrong.\\nG o\\nt o :\\nCONCLUSIONS\\nThe\\nrecent\\nsurge\\nin\\nsexual\\nviolence\\ntowards\\nwomen\\nin\\nIndia\\nrequire\\na\\nmulti-pronged\\nresponse\\nthat\\nshould\\ninvolve\\nnot\\njust\\norganised\\nand\\nnon-or ganized\\nsectors,\\nbut\\nalso\\nindividuals\\nas\\nmembers\\nof\\nthat\\nsociety\\nas\\nperpetrators\\nof\\nrape\\noften\\nhave\\nmental\\nhealth\\nand\\npsychosocial\\nrisk\\nfactors\\nthat\\ntrigger ,\\nmaintain\\nand\\nperpetuate\\nthe\\noffence.\\nPsychiatry\\ncan\\nplay\\naconstructive\\nand\\neducative\\nrole\\nin\\nassisting\\ncriminal\\njustice\\nagencies\\nin\\nmanaging\\nthis\\nscour ge.\\nFor\\nthe\\ndiscipline\\nto\\ndo\\nso,\\nit\\nrequires\\nleadership\\nand\\nvision\\nin\\ndeveloping\\nthe\\nneglected\\nfield\\nof\\nforensic\\nmental\\nhealth.\\nNational\\nmental\\nhealth\\nplanning\\nmust\\ninclude\\ncentres\\nthat\\ncan\\ntrain\\nthe\\nnext\\ngeneration\\nof\\nprofessional\\nin\\nthe\\nassessment\\nand\\nmanagement\\nof\\noffending\\nbehaviours\\nsuch\\nas\\nrape.\\nIn\\ndoing\\nso,\\nthe\\ndiscipline\\nand\\nits\\npractitioners\\nmust\\nbe\\ncognizant\\nof\\nthe\\nethical\\nand\\nmoral\\nprinciples\\nthat\\ngovern\\ntheir\\nactions\\nas\\ndoctors\\nand\\nas\\ncarers\\nof\\nindividuals\\nwith\\nmental\\nhealth\\nprofessionals\\nand\\nprotect\\nthemselves\\nfrom\\nexcessive\\nand\\nunjust\\ndemands\\nfrom\\nothers\\nas\\nwell\\nas\\nact\\nto\\nreduce\\nthe\\nstigma\\nassociated\\nwith\\nbeing\\nconsumers\\nof\\nmental\\nhealth\\nservices'"
            ],
            "application/vnd.google.colaboratory.intrinsic+json": {
              "type": "string"
            }
          },
          "metadata": {},
          "execution_count": 8
        }
      ],
      "source": [
        "raw_text"
      ]
    },
    {
      "cell_type": "markdown",
      "source": [
        "**3. Split Text into Chunks**"
      ],
      "metadata": {
        "id": "RMohd1lI7lpq"
      },
      "id": "RMohd1lI7lpq"
    },
    {
      "cell_type": "code",
      "execution_count": null,
      "id": "68457db8-f6ff-44eb-b743-7b7ff5b082a4",
      "metadata": {
        "id": "68457db8-f6ff-44eb-b743-7b7ff5b082a4"
      },
      "outputs": [],
      "source": [
        "text_splitter=CharacterTextSplitter(\n",
        "    separator=\"\\n\",\n",
        "    chunk_size=800,\n",
        "    chunk_overlap=200,\n",
        "    length_function=len,\n",
        ")\n",
        "texts=text_splitter.split_text(raw_text)"
      ]
    },
    {
      "cell_type": "code",
      "execution_count": null,
      "id": "0c4b3914-a36f-46d7-ae07-43604f607358",
      "metadata": {
        "colab": {
          "base_uri": "https://localhost:8080/"
        },
        "id": "0c4b3914-a36f-46d7-ae07-43604f607358",
        "outputId": "41b8acae-426a-44f0-b4b5-1b343866ecf6"
      },
      "outputs": [
        {
          "output_type": "execute_result",
          "data": {
            "text/plain": [
              "74"
            ]
          },
          "metadata": {},
          "execution_count": 10
        }
      ],
      "source": [
        "len(texts)"
      ]
    },
    {
      "cell_type": "markdown",
      "source": [
        "**4. Create Embeddings and Index**"
      ],
      "metadata": {
        "id": "ZkZe1o6n7t1w"
      },
      "id": "ZkZe1o6n7t1w"
    },
    {
      "cell_type": "code",
      "execution_count": null,
      "id": "9d02096d-799a-4a1d-9080-576c802d0349",
      "metadata": {
        "id": "9d02096d-799a-4a1d-9080-576c802d0349",
        "colab": {
          "base_uri": "https://localhost:8080/"
        },
        "outputId": "035aba3a-24ca-4c9a-f388-935be9ef44e2"
      },
      "outputs": [
        {
          "output_type": "stream",
          "name": "stderr",
          "text": [
            "/usr/local/lib/python3.10/dist-packages/langchain_core/_api/deprecation.py:141: LangChainDeprecationWarning: The class `OpenAIEmbeddings` was deprecated in LangChain 0.0.9 and will be removed in 0.3.0. An updated version of the class exists in the langchain-openai package and should be used instead. To use it run `pip install -U langchain-openai` and import as `from langchain_openai import OpenAIEmbeddings`.\n",
            "  warn_deprecated(\n"
          ]
        }
      ],
      "source": [
        "embeddings = OpenAIEmbeddings(openai_api_key=OPENAI_API_KEY)"
      ]
    },
    {
      "cell_type": "code",
      "execution_count": null,
      "id": "c41b6f8c-87ab-4377-afb2-3e1a4dcdea21",
      "metadata": {
        "id": "c41b6f8c-87ab-4377-afb2-3e1a4dcdea21"
      },
      "outputs": [],
      "source": [
        "documentsearch=FAISS.from_texts(texts,embeddings)"
      ]
    },
    {
      "cell_type": "markdown",
      "source": [
        "**5. Implement Question-Answering System**"
      ],
      "metadata": {
        "id": "6iV4-ZRw71fq"
      },
      "id": "6iV4-ZRw71fq"
    },
    {
      "cell_type": "code",
      "execution_count": null,
      "id": "55d7c3a0-a7d4-464e-965f-bea2a2cdb036",
      "metadata": {
        "id": "55d7c3a0-a7d4-464e-965f-bea2a2cdb036"
      },
      "outputs": [],
      "source": [
        "from langchain.chains.question_answering import load_qa_chain\n",
        "from langchain.llms import openai"
      ]
    },
    {
      "cell_type": "code",
      "execution_count": null,
      "id": "4e4dd005-3e80-492f-81e4-3e91fe5de6a8",
      "metadata": {
        "id": "4e4dd005-3e80-492f-81e4-3e91fe5de6a8",
        "colab": {
          "base_uri": "https://localhost:8080/"
        },
        "outputId": "2c69bc8d-9a04-471b-d716-e829f3269f06"
      },
      "outputs": [
        {
          "output_type": "stream",
          "name": "stderr",
          "text": [
            "/usr/local/lib/python3.10/dist-packages/langchain_core/_api/deprecation.py:141: LangChainDeprecationWarning: The class `OpenAI` was deprecated in LangChain 0.0.10 and will be removed in 0.3.0. An updated version of the class exists in the langchain-openai package and should be used instead. To use it run `pip install -U langchain-openai` and import as `from langchain_openai import OpenAI`.\n",
            "  warn_deprecated(\n",
            "/usr/local/lib/python3.10/dist-packages/langchain_core/_api/deprecation.py:141: LangChainDeprecationWarning: This class is deprecated. See the following migration guides for replacements based on `chain_type`:\n",
            "stuff: https://python.langchain.com/v0.2/docs/versions/migrating_chains/stuff_docs_chain\n",
            "map_reduce: https://python.langchain.com/v0.2/docs/versions/migrating_chains/map_reduce_chain\n",
            "refine: https://python.langchain.com/v0.2/docs/versions/migrating_chains/refine_chain\n",
            "map_rerank: https://python.langchain.com/v0.2/docs/versions/migrating_chains/map_rerank_docs_chain\n",
            "\n",
            "See also guides on retrieval and question-answering here: https://python.langchain.com/v0.2/docs/how_to/#qa-with-rag\n",
            "  warn_deprecated(\n"
          ]
        }
      ],
      "source": [
        "# Load QA chain\n",
        "qa_chain = load_qa_chain(OpenAI(api_key=OPENAI_API_KEY), chain_type=\"stuff\")\n"
      ]
    },
    {
      "cell_type": "code",
      "execution_count": null,
      "id": "2880fc49-2dc7-4012-ab07-522f94599952",
      "metadata": {
        "id": "2880fc49-2dc7-4012-ab07-522f94599952"
      },
      "outputs": [],
      "source": [
        "\n",
        "def answer_query(query):\n",
        "    docs = documentsearch.similarity_search(query)\n",
        "    answer = qa_chain.run(input_documents=docs, question=query)\n",
        "    return answer"
      ]
    },
    {
      "cell_type": "code",
      "source": [
        "\n",
        "queries = [\n",
        "    \"Why men rape?\"\n",
        "]\n",
        "\n",
        "for query in queries:\n",
        "    answer = answer_query(query)\n",
        "    print(f\"Query: {query}\\nAnswer: {answer}\\n\")"
      ],
      "metadata": {
        "colab": {
          "base_uri": "https://localhost:8080/"
        },
        "id": "0e0kDVcpQz1f",
        "outputId": "02e720e4-719a-4cee-bb50-a7289c9e9d3a"
      },
      "id": "0e0kDVcpQz1f",
      "execution_count": null,
      "outputs": [
        {
          "output_type": "stream",
          "name": "stdout",
          "text": [
            "Query: Why men rape?\n",
            "Answer:  There is no one definitive answer as to why men rape. It is a complex issue that can involve a combination of factors, including societal norms and attitudes towards gender and sexuality, power dynamics, past experiences, mental health issues, and alcohol or drug use. Each case is different and it is important to address the specific circumstances and motivations of the individual perpetrator.\n",
            "\n"
          ]
        }
      ]
    },
    {
      "cell_type": "code",
      "source": [
        "\n",
        "queries = [\n",
        "    \"what is energyY?\"\n",
        "\n",
        "]\n",
        "\n",
        "for query in queries:\n",
        "    answer = answer_query(query)\n",
        "    print(f\"Query: {query}\\nAnswer: {answer}\\n\")"
      ],
      "metadata": {
        "colab": {
          "base_uri": "https://localhost:8080/"
        },
        "id": "mWpJePzL-kCK",
        "outputId": "ba962a7b-5d41-4f0c-8932-cebe4f61225b"
      },
      "id": "mWpJePzL-kCK",
      "execution_count": null,
      "outputs": [
        {
          "output_type": "stream",
          "name": "stdout",
          "text": [
            "Query: what is energyY?\n",
            "Answer:  Energy is the ability to do work or cause change. In the context of this article, it refers to the power generated by wind and used to produce electricity. \n",
            "\n"
          ]
        }
      ]
    },
    {
      "cell_type": "code",
      "source": [],
      "metadata": {
        "id": "7kJJPlpAGidP"
      },
      "id": "7kJJPlpAGidP",
      "execution_count": null,
      "outputs": []
    }
  ],
  "metadata": {
    "kernelspec": {
      "display_name": "Python 3 (ipykernel)",
      "language": "python",
      "name": "python3"
    },
    "language_info": {
      "codemirror_mode": {
        "name": "ipython",
        "version": 3
      },
      "file_extension": ".py",
      "mimetype": "text/x-python",
      "name": "python",
      "nbconvert_exporter": "python",
      "pygments_lexer": "ipython3",
      "version": "3.11.7"
    },
    "colab": {
      "provenance": []
    }
  },
  "nbformat": 4,
  "nbformat_minor": 5
}